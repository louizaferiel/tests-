{
  "nbformat": 4,
  "nbformat_minor": 0,
  "metadata": {
    "kernelspec": {
      "display_name": "Python 3",
      "language": "python",
      "name": "python3"
    },
    "language_info": {
      "codemirror_mode": {
        "name": "ipython",
        "version": 3
      },
      "file_extension": ".py",
      "mimetype": "text/x-python",
      "name": "python",
      "nbconvert_exporter": "python",
      "pygments_lexer": "ipython3",
      "version": "3.7.3"
    },
    "colab": {
      "name": "problem_0104.ipynb",
      "provenance": []
    }
  },
  "cells": [
    {
      "cell_type": "markdown",
      "metadata": {
        "id": "lwaajmBl8L6o"
      },
      "source": [
        "## Quiz #0104 "
      ]
    },
    {
      "cell_type": "markdown",
      "metadata": {
        "id": "VJI3y1qq8L6p"
      },
      "source": [
        "#### Code the class 'Aquarium' that outputs the result as shown. "
      ]
    },
    {
      "cell_type": "code",
      "metadata": {
        "id": "i2C_S4z18L6q"
      },
      "source": [
        "def check(x,list):\n",
        "  for  i range(len(list)):\n",
        "    if(list[i]==x):\n",
        "      return True\n",
        "    else:\n",
        "      return False\n",
        "class Aquarium:\n",
        "  def __init__(self):\n",
        "    self.animal=[]\n",
        "    print(\"An Aquarium has opened!\")\n",
        "  def my_aquarium.enters(a) :\n",
        "    if (check(a,self.animal):\n",
        "     print(f'{a} is a member of our aquarium')\n",
        "     self.animal.append(a)\n",
        "     else:\n",
        "      print(f' we already a {a} ')\n",
        "  def my_aquarium.show_all():\n",
        "    return self.animal() \n",
        "  def my_aquarium.leaves(a):\n",
        "    if (check(a,self.animal):\n",
        "     self.animal.remove(a)\n",
        "     else:\n",
        "      print(f' No such sea creature in the Aquarium! {a} ')"
      ],
      "execution_count": null,
      "outputs": []
    },
    {
      "cell_type": "markdown",
      "metadata": {
        "id": "JutoAeUO8L6q"
      },
      "source": [
        "Test results:"
      ]
    },
    {
      "cell_type": "code",
      "metadata": {
        "id": "c0PyI5nw8L6r",
        "outputId": "b1d8d3eb-0289-45ed-cd1d-841b9c8dbe17"
      },
      "source": [
        "my_aquarium = Aquarium()"
      ],
      "execution_count": null,
      "outputs": [
        {
          "output_type": "stream",
          "text": [
            "An Aquarium has opened!\n"
          ],
          "name": "stdout"
        }
      ]
    },
    {
      "cell_type": "code",
      "metadata": {
        "id": "zIjDZpgB8L6s",
        "outputId": "4e4064cc-ac0c-4d11-d4e8-5aa8af57282a"
      },
      "source": [
        "my_aquarium.enters('Turtle')"
      ],
      "execution_count": null,
      "outputs": [
        {
          "output_type": "stream",
          "text": [
            "Turtle is a new member of our Aquarium!\n"
          ],
          "name": "stdout"
        }
      ]
    },
    {
      "cell_type": "code",
      "metadata": {
        "id": "L57k7YB-8L6s",
        "outputId": "ad3dd9eb-4d69-473a-b6a8-b4154f9a88dc"
      },
      "source": [
        "my_aquarium.enters('Turtle')"
      ],
      "execution_count": null,
      "outputs": [
        {
          "output_type": "stream",
          "text": [
            "We already have Turtle.\n"
          ],
          "name": "stdout"
        }
      ]
    },
    {
      "cell_type": "code",
      "metadata": {
        "id": "fPXs_g7B8L6t",
        "outputId": "799316f4-74dd-4c39-a9f2-ab62efee297c"
      },
      "source": [
        "my_aquarium.enters('Dolphin')"
      ],
      "execution_count": null,
      "outputs": [
        {
          "output_type": "stream",
          "text": [
            "Dolphin is a new member of our Aquarium!\n"
          ],
          "name": "stdout"
        }
      ]
    },
    {
      "cell_type": "code",
      "metadata": {
        "id": "d1n5WO0Q8L6t",
        "outputId": "52a199b7-9cbd-42a8-c408-a1d743e8d760"
      },
      "source": [
        "my_aquarium.enters('Sea Lion')"
      ],
      "execution_count": null,
      "outputs": [
        {
          "output_type": "stream",
          "text": [
            "Sea Lion is a new member of our Aquarium!\n"
          ],
          "name": "stdout"
        }
      ]
    },
    {
      "cell_type": "code",
      "metadata": {
        "id": "A3ug62Ey8L6t",
        "outputId": "d6cac216-91f4-40db-d400-f15281df5212"
      },
      "source": [
        "my_aquarium.enters('Shark')"
      ],
      "execution_count": null,
      "outputs": [
        {
          "output_type": "stream",
          "text": [
            "Shark is a new member of our Aquarium!\n"
          ],
          "name": "stdout"
        }
      ]
    },
    {
      "cell_type": "code",
      "metadata": {
        "id": "KG7VQ75z8L6t",
        "outputId": "05223bff-9a5f-4799-bdc9-85cce991a288"
      },
      "source": [
        "my_aquarium.show_all()"
      ],
      "execution_count": null,
      "outputs": [
        {
          "output_type": "stream",
          "text": [
            "['Turtle', 'Dolphin', 'Sea Lion', 'Shark']\n"
          ],
          "name": "stdout"
        }
      ]
    },
    {
      "cell_type": "code",
      "metadata": {
        "id": "2YqU9cdu8L6t"
      },
      "source": [
        "my_aquarium.leaves(\"Sea Lion\")"
      ],
      "execution_count": null,
      "outputs": []
    },
    {
      "cell_type": "code",
      "metadata": {
        "id": "eCltuAV-8L6u",
        "outputId": "be068dff-1b9e-41bb-994d-a53951df2703"
      },
      "source": [
        "my_aquarium.leaves(\"Killer Whale\")"
      ],
      "execution_count": null,
      "outputs": [
        {
          "output_type": "stream",
          "text": [
            "No such sea creature in the Aquarium!\n"
          ],
          "name": "stdout"
        }
      ]
    },
    {
      "cell_type": "code",
      "metadata": {
        "id": "A7XUX4Ot8L6u",
        "outputId": "2970f713-0508-4050-e7c4-ec2504d499c0"
      },
      "source": [
        "my_aquarium.show_all()"
      ],
      "execution_count": null,
      "outputs": [
        {
          "output_type": "stream",
          "text": [
            "['Turtle', 'Dolphin', 'Shark']\n"
          ],
          "name": "stdout"
        }
      ]
    },
    {
      "cell_type": "code",
      "metadata": {
        "id": "OZkgqe6t8L6u"
      },
      "source": [
        "my_aquarium.leaves(\"Turtle\")"
      ],
      "execution_count": null,
      "outputs": []
    },
    {
      "cell_type": "code",
      "metadata": {
        "id": "_yLAbaBY8L6u",
        "outputId": "c3a213a6-071f-4c92-fc19-f13dc7596736"
      },
      "source": [
        "my_aquarium.show_all()"
      ],
      "execution_count": null,
      "outputs": [
        {
          "output_type": "stream",
          "text": [
            "['Dolphin', 'Shark']\n"
          ],
          "name": "stdout"
        }
      ]
    }
  ]
}