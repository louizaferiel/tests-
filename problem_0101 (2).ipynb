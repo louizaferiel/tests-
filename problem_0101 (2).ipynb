{
  "nbformat": 4,
  "nbformat_minor": 0,
  "metadata": {
    "colab": {
      "name": "problem_0101.ipynb",
      "provenance": [],
      "collapsed_sections": []
    },
    "kernelspec": {
      "display_name": "Python 3",
      "language": "python",
      "name": "python3"
    },
    "language_info": {
      "codemirror_mode": {
        "name": "ipython",
        "version": 3
      },
      "file_extension": ".py",
      "mimetype": "text/x-python",
      "name": "python",
      "nbconvert_exporter": "python",
      "pygments_lexer": "ipython3",
      "version": "3.7.3"
    }
  },
  "cells": [
    {
      "cell_type": "markdown",
      "metadata": {
        "id": "6Yii7kG_lmJx"
      },
      "source": [
        "## Quiz #0101"
      ]
    },
    {
      "cell_type": "markdown",
      "metadata": {
        "id": "_umA8DG-lmJ1"
      },
      "source": [
        "#### Provide the answers in Python code:"
      ]
    },
    {
      "cell_type": "markdown",
      "metadata": {
        "id": "jHaFvNBHlmJ2"
      },
      "source": [
        "1).  In the class A, students' heights are:\n",
        "\n",
        "161.5 <br>\n",
        "165.9 <br>\n",
        "168.7 <br>\n",
        "163.1 <br>\n",
        "170.8 <br>\n",
        "167.2 <br>\n",
        "\n",
        "Calculate the mean height by using Python 'list' and 'for' loop:"
      ]
    },
    {
      "cell_type": "code",
      "metadata": {
        "colab": {
          "base_uri": "https://localhost:8080/"
        },
        "id": "b7cev68ulmJ3",
        "outputId": "c6fed5c1-aefa-47d7-de2d-d03bfb7cc4cb"
      },
      "source": [
        "class_a=(161.5,165.9,168.7,163.1,170.8,167.2)\n",
        "class_a=list(class_a)\n",
        "print(class_a)\n",
        "mean_height=0\n",
        "for height in class_a:\n",
        "  mean_height += height/len(class_a)\n",
        "print(f'mean heat is {mean_height}')"
      ],
      "execution_count": null,
      "outputs": [
        {
          "output_type": "stream",
          "text": [
            "[161.5, 165.9, 168.7, 163.1, 170.8, 167.2]\n",
            "mean heat is 166.20000000000002\n"
          ],
          "name": "stdout"
        }
      ]
    },
    {
      "cell_type": "markdown",
      "metadata": {
        "id": "t7b18vi5lmJ4"
      },
      "source": [
        "2).  In the class B, students' heights are:\n",
        "\n",
        "172.5 <br>\n",
        "162.9 <br>\n",
        "161.7 <br>\n",
        "160.1 <br>\n",
        "161.8 <br>\n",
        "169.2 <br>\n",
        "\n",
        "Calculate the mean height by using Python 'list' and 'for' loop:"
      ]
    },
    {
      "cell_type": "code",
      "metadata": {
        "colab": {
          "base_uri": "https://localhost:8080/"
        },
        "id": "8HWd9tfGlmJ4",
        "outputId": "b42595f5-763e-4ed3-f81a-708a8f4e4f95"
      },
      "source": [
        "class_b=(172.5,162.9,161.7,160.1,161.8,169.2)\n",
        "class_a=list(class_b)\n",
        "print(class_b)\n",
        "mean_height=0\n",
        "for height in class_b:\n",
        "  mean_height += height/len(class_b)\n",
        "print(f'mean heat is {mean_height}')"
      ],
      "execution_count": null,
      "outputs": [
        {
          "output_type": "stream",
          "text": [
            "(172.5, 162.9, 161.7, 160.1, 161.8, 169.2)\n",
            "mean heat is 164.7\n"
          ],
          "name": "stdout"
        }
      ]
    },
    {
      "cell_type": "markdown",
      "metadata": {
        "id": "IX83mNb8lmJ5"
      },
      "source": [
        "3). The class A and the class B are joined together to form the class AB. Calculate the mean height by using Python 'list' and 'for' loop:"
      ]
    },
    {
      "cell_type": "code",
      "metadata": {
        "colab": {
          "base_uri": "https://localhost:8080/"
        },
        "id": "T_YRbnH4lmJ6",
        "outputId": "a83490b2-8d00-4e9b-c7c3-818642ae409e"
      },
      "source": [
        "class_a =(161.5,165.9,168.7,163.1,170.8,167.2)\n",
        "class_b = (172.5,162.9,161.7,160.1,161.8,169.2)\n",
        "class_ab = map(lambda x, y: (x + y)/2, class_a, class_b)\n",
        "print(list(class_ab))\n",
        "\n"
      ],
      "execution_count": null,
      "outputs": [
        {
          "output_type": "stream",
          "text": [
            "[167.0, 164.4, 165.2, 161.6, 166.3, 168.2]\n"
          ],
          "name": "stdout"
        }
      ]
    },
    {
      "cell_type": "markdown",
      "metadata": {
        "id": "SyqsVGealmJ6"
      },
      "source": [
        "4). Sort the heights of the class AB."
      ]
    },
    {
      "cell_type": "code",
      "metadata": {
        "id": "coNszCuBlmJ7",
        "colab": {
          "base_uri": "https://localhost:8080/"
        },
        "outputId": "787e7f64-2115-4022-adf5-352eec09b0ac"
      },
      "source": [
        "class_ab=[167.0, 164.4, 165.2, 161.6, 166.3, 168.2]\n",
        "x=class_ab.sort()"
      ],
      "execution_count": null,
      "outputs": [
        {
          "output_type": "stream",
          "text": [
            "None\n"
          ],
          "name": "stdout"
        }
      ]
    },
    {
      "cell_type": "markdown",
      "metadata": {
        "id": "fGbTkc5clmJ7"
      },
      "source": [
        "5). The class C is formed with students with the height less than 165. Make a list 'C' containing the heights of the class C."
      ]
    },
    {
      "cell_type": "code",
      "metadata": {
        "id": "VFlqh75BlmJ8",
        "colab": {
          "base_uri": "https://localhost:8080/"
        },
        "outputId": "7486a54d-b985-4f63-8f0e-325bc6f8eb86"
      },
      "source": [
        "class_ab=[167.0, 164.4, 165.2, 161.6, 166.3, 168.2]\n",
        "c=[]\n",
        "for i in class_ab:\n",
        "  if(i < 165):\n",
        "    c.append(i)\n",
        "print(c)\n"
      ],
      "execution_count": null,
      "outputs": [
        {
          "output_type": "stream",
          "text": [
            "[164.4, 161.6]\n"
          ],
          "name": "stdout"
        }
      ]
    },
    {
      "cell_type": "markdown",
      "metadata": {
        "id": "zYNddIVylmJ9"
      },
      "source": [
        "6). The class D is formed with students with the height larger than 160 and less than 170. Make a list containing the heights of the class D."
      ]
    },
    {
      "cell_type": "code",
      "metadata": {
        "id": "XiMspliUlmJ-",
        "colab": {
          "base_uri": "https://localhost:8080/"
        },
        "outputId": "7638c241-46a4-499e-bead-86830891cb5e"
      },
      "source": [
        "class_ab=[167.0, 164.4, 165.2, 161.6, 166.3, 168.2]\n",
        "c=[]\n",
        "for i in class_ab:\n",
        "  if(i >160 and i< 170):\n",
        "    c.append(i)\n",
        "print(c)"
      ],
      "execution_count": null,
      "outputs": [
        {
          "output_type": "stream",
          "text": [
            "[167.0, 164.4, 165.2, 161.6, 166.3, 168.2]\n"
          ],
          "name": "stdout"
        }
      ]
    }
  ]
}