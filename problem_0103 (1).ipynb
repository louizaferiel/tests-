{
  "nbformat": 4,
  "nbformat_minor": 0,
  "metadata": {
    "kernelspec": {
      "display_name": "Python 3",
      "language": "python",
      "name": "python3"
    },
    "language_info": {
      "codemirror_mode": {
        "name": "ipython",
        "version": 3
      },
      "file_extension": ".py",
      "mimetype": "text/x-python",
      "name": "python",
      "nbconvert_exporter": "python",
      "pygments_lexer": "ipython3",
      "version": "3.7.3"
    },
    "colab": {
      "name": "problem_0103.ipynb",
      "provenance": []
    }
  },
  "cells": [
    {
      "cell_type": "markdown",
      "metadata": {
        "id": "cObEUvI06UZL"
      },
      "source": [
        "## Quiz #0103 "
      ]
    },
    {
      "cell_type": "markdown",
      "metadata": {
        "id": "-GT4CDDW6UZQ"
      },
      "source": [
        "#### Code the class named 'Calculator' that outputs the result as shown. "
      ]
    },
    {
      "cell_type": "code",
      "metadata": {
        "id": "2Nzf6CwQ6UZS"
      },
      "source": [
        "class Calculator:\n",
        "def __init__(self,calc1,cal2):\n",
        "  self.calc1=calc1\n",
        "  self.calc1=calc1\n",
        "def sum():\n",
        "  return calc2+calc2\n",
        "def substract():\n",
        "  return calc2-calc2\n",
        "def product():\n",
        "  return calc1*calc2\n",
        "def divide():\n",
        "  try:\n",
        "    return calc1/calc2\n",
        "except ZeroDivisionError:\n",
        " print(‘calc2 cannot be 0’)\n",
        "\n",
        "\n",
        "\n",
        "   \n",
        "\n",
        "\n",
        "\n",
        "\n",
        "\n"
      ],
      "execution_count": null,
      "outputs": []
    },
    {
      "cell_type": "markdown",
      "metadata": {
        "id": "xt_v1cTf6UZT"
      },
      "source": [
        "Test results:"
      ]
    },
    {
      "cell_type": "code",
      "metadata": {
        "id": "7CnIroRj6UZU"
      },
      "source": [
        "calc1 = Calculator(5,3)\n",
        "calc2 = Calculator(10,2)"
      ],
      "execution_count": null,
      "outputs": []
    },
    {
      "cell_type": "code",
      "metadata": {
        "id": "QETAhr566UZV",
        "outputId": "1c726efa-09d6-4535-89cb-fa2d2124479e"
      },
      "source": [
        "print(calc1.sum())\n",
        "print(calc1.subtract())\n",
        "print(calc1.product())\n",
        "print(calc1.divide())"
      ],
      "execution_count": null,
      "outputs": [
        {
          "output_type": "stream",
          "text": [
            "8\n",
            "2\n",
            "15\n",
            "1.6666666666666667\n"
          ],
          "name": "stdout"
        }
      ]
    },
    {
      "cell_type": "code",
      "metadata": {
        "id": "QGS5Iw706UZY",
        "outputId": "898dbd73-6b14-4d3f-d06b-e7090d1f5f84"
      },
      "source": [
        "print(calc2.sum())\n",
        "print(calc2.subtract())\n",
        "print(calc2.product())\n",
        "print(calc2.divide())"
      ],
      "execution_count": null,
      "outputs": [
        {
          "output_type": "stream",
          "text": [
            "12\n",
            "8\n",
            "20\n",
            "5.0\n"
          ],
          "name": "stdout"
        }
      ]
    }
  ]
}