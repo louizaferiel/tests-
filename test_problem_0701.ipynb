{
  "nbformat": 4,
  "nbformat_minor": 0,
  "metadata": {
    "kernelspec": {
      "display_name": "Python 3",
      "language": "python",
      "name": "python3"
    },
    "language_info": {
      "codemirror_mode": {
        "name": "ipython",
        "version": 3
      },
      "file_extension": ".py",
      "mimetype": "text/x-python",
      "name": "python",
      "nbconvert_exporter": "python",
      "pygments_lexer": "ipython3",
      "version": "3.7.3"
    },
    "colab": {
      "name": " test_problem_0701.ipynb",
      "provenance": [],
      "collapsed_sections": []
    }
  },
  "cells": [
    {
      "cell_type": "markdown",
      "metadata": {
        "id": "EXZcGfi-KlCt"
      },
      "source": [
        "## Quiz #0701"
      ]
    },
    {
      "cell_type": "markdown",
      "metadata": {
        "id": "cdardhDQKlCz"
      },
      "source": [
        "### \"TensorFlow machine learning with Calilfornia housing data\""
      ]
    },
    {
      "cell_type": "code",
      "metadata": {
        "id": "KpsGXrUlKlC3"
      },
      "source": [
        "import numpy as np\n",
        "import pandas as pd\n",
        "from sklearn.datasets import fetch_california_housing\n",
        "from sklearn.model_selection import train_test_split\n",
        "from sklearn.preprocessing import scale\n",
        "import matplotlib.pyplot as plt\n",
        "import tensorflow as tf\n",
        "import warnings\n",
        "%matplotlib inline\n",
        "warnings.filterwarnings('ignore')    # Turn the warnings off."
      ],
      "execution_count": 1,
      "outputs": []
    },
    {
      "cell_type": "markdown",
      "metadata": {
        "id": "SfnZjqWDKlC5"
      },
      "source": [
        "#### Answer the following question by providing Python code:"
      ]
    },
    {
      "cell_type": "code",
      "metadata": {
        "id": "c_Xp6vmvKlC6",
        "colab": {
          "base_uri": "https://localhost:8080/"
        },
        "outputId": "e06892d2-e8d6-4086-9704-039754ff02bb"
      },
      "source": [
        "# Bring the data.\n",
        "housing_data = fetch_california_housing()"
      ],
      "execution_count": 2,
      "outputs": [
        {
          "output_type": "stream",
          "name": "stderr",
          "text": [
            "Downloading Cal. housing from https://ndownloader.figshare.com/files/5976036 to /root/scikit_learn_data\n"
          ]
        }
      ]
    },
    {
      "cell_type": "code",
      "metadata": {
        "id": "PI6LM27JKlC7",
        "colab": {
          "base_uri": "https://localhost:8080/"
        },
        "outputId": "58615af0-62bd-45ee-f5a4-da70ac5f935c"
      },
      "source": [
        "# Read the description.\n",
        "print(housing_data['DESCR'])"
      ],
      "execution_count": 3,
      "outputs": [
        {
          "output_type": "stream",
          "name": "stdout",
          "text": [
            ".. _california_housing_dataset:\n",
            "\n",
            "California Housing dataset\n",
            "--------------------------\n",
            "\n",
            "**Data Set Characteristics:**\n",
            "\n",
            "    :Number of Instances: 20640\n",
            "\n",
            "    :Number of Attributes: 8 numeric, predictive attributes and the target\n",
            "\n",
            "    :Attribute Information:\n",
            "        - MedInc        median income in block\n",
            "        - HouseAge      median house age in block\n",
            "        - AveRooms      average number of rooms\n",
            "        - AveBedrms     average number of bedrooms\n",
            "        - Population    block population\n",
            "        - AveOccup      average house occupancy\n",
            "        - Latitude      house block latitude\n",
            "        - Longitude     house block longitude\n",
            "\n",
            "    :Missing Attribute Values: None\n",
            "\n",
            "This dataset was obtained from the StatLib repository.\n",
            "http://lib.stat.cmu.edu/datasets/\n",
            "\n",
            "The target variable is the median house value for California districts.\n",
            "\n",
            "This dataset was derived from the 1990 U.S. census, using one row per census\n",
            "block group. A block group is the smallest geographical unit for which the U.S.\n",
            "Census Bureau publishes sample data (a block group typically has a population\n",
            "of 600 to 3,000 people).\n",
            "\n",
            "It can be downloaded/loaded using the\n",
            ":func:`sklearn.datasets.fetch_california_housing` function.\n",
            "\n",
            ".. topic:: References\n",
            "\n",
            "    - Pace, R. Kelley and Ronald Barry, Sparse Spatial Autoregressions,\n",
            "      Statistics and Probability Letters, 33 (1997) 291-297\n",
            "\n"
          ]
        }
      ]
    },
    {
      "cell_type": "markdown",
      "metadata": {
        "id": "cIMdMJRGKlC8"
      },
      "source": [
        "1). Explore the data:\n",
        "- Display the dataset as a DataFrame with column labels."
      ]
    },
    {
      "cell_type": "code",
      "metadata": {
        "id": "DPhpP0z4KlC9",
        "colab": {
          "base_uri": "https://localhost:8080/",
          "height": 203
        },
        "outputId": "d303738b-46c1-4a92-d8fe-862c815ad26c"
      },
      "source": [
        "\n",
        "#convert a Scikit-learn dataset to a Pandas dataset\n",
        "df = pd.DataFrame(housing_data['data'])\n",
        "df['target'] = housing_data['target']\n",
        "df.head()"
      ],
      "execution_count": 4,
      "outputs": [
        {
          "output_type": "execute_result",
          "data": {
            "text/html": [
              "<div>\n",
              "<style scoped>\n",
              "    .dataframe tbody tr th:only-of-type {\n",
              "        vertical-align: middle;\n",
              "    }\n",
              "\n",
              "    .dataframe tbody tr th {\n",
              "        vertical-align: top;\n",
              "    }\n",
              "\n",
              "    .dataframe thead th {\n",
              "        text-align: right;\n",
              "    }\n",
              "</style>\n",
              "<table border=\"1\" class=\"dataframe\">\n",
              "  <thead>\n",
              "    <tr style=\"text-align: right;\">\n",
              "      <th></th>\n",
              "      <th>0</th>\n",
              "      <th>1</th>\n",
              "      <th>2</th>\n",
              "      <th>3</th>\n",
              "      <th>4</th>\n",
              "      <th>5</th>\n",
              "      <th>6</th>\n",
              "      <th>7</th>\n",
              "      <th>target</th>\n",
              "    </tr>\n",
              "  </thead>\n",
              "  <tbody>\n",
              "    <tr>\n",
              "      <th>0</th>\n",
              "      <td>8.3252</td>\n",
              "      <td>41.0</td>\n",
              "      <td>6.984127</td>\n",
              "      <td>1.023810</td>\n",
              "      <td>322.0</td>\n",
              "      <td>2.555556</td>\n",
              "      <td>37.88</td>\n",
              "      <td>-122.23</td>\n",
              "      <td>4.526</td>\n",
              "    </tr>\n",
              "    <tr>\n",
              "      <th>1</th>\n",
              "      <td>8.3014</td>\n",
              "      <td>21.0</td>\n",
              "      <td>6.238137</td>\n",
              "      <td>0.971880</td>\n",
              "      <td>2401.0</td>\n",
              "      <td>2.109842</td>\n",
              "      <td>37.86</td>\n",
              "      <td>-122.22</td>\n",
              "      <td>3.585</td>\n",
              "    </tr>\n",
              "    <tr>\n",
              "      <th>2</th>\n",
              "      <td>7.2574</td>\n",
              "      <td>52.0</td>\n",
              "      <td>8.288136</td>\n",
              "      <td>1.073446</td>\n",
              "      <td>496.0</td>\n",
              "      <td>2.802260</td>\n",
              "      <td>37.85</td>\n",
              "      <td>-122.24</td>\n",
              "      <td>3.521</td>\n",
              "    </tr>\n",
              "    <tr>\n",
              "      <th>3</th>\n",
              "      <td>5.6431</td>\n",
              "      <td>52.0</td>\n",
              "      <td>5.817352</td>\n",
              "      <td>1.073059</td>\n",
              "      <td>558.0</td>\n",
              "      <td>2.547945</td>\n",
              "      <td>37.85</td>\n",
              "      <td>-122.25</td>\n",
              "      <td>3.413</td>\n",
              "    </tr>\n",
              "    <tr>\n",
              "      <th>4</th>\n",
              "      <td>3.8462</td>\n",
              "      <td>52.0</td>\n",
              "      <td>6.281853</td>\n",
              "      <td>1.081081</td>\n",
              "      <td>565.0</td>\n",
              "      <td>2.181467</td>\n",
              "      <td>37.85</td>\n",
              "      <td>-122.25</td>\n",
              "      <td>3.422</td>\n",
              "    </tr>\n",
              "  </tbody>\n",
              "</table>\n",
              "</div>"
            ],
            "text/plain": [
              "        0     1         2         3       4         5      6       7  target\n",
              "0  8.3252  41.0  6.984127  1.023810   322.0  2.555556  37.88 -122.23   4.526\n",
              "1  8.3014  21.0  6.238137  0.971880  2401.0  2.109842  37.86 -122.22   3.585\n",
              "2  7.2574  52.0  8.288136  1.073446   496.0  2.802260  37.85 -122.24   3.521\n",
              "3  5.6431  52.0  5.817352  1.073059   558.0  2.547945  37.85 -122.25   3.413\n",
              "4  3.8462  52.0  6.281853  1.081081   565.0  2.181467  37.85 -122.25   3.422"
            ]
          },
          "metadata": {},
          "execution_count": 4
        }
      ]
    },
    {
      "cell_type": "markdown",
      "metadata": {
        "id": "iJ0dFyfjKlC_"
      },
      "source": [
        "2). Build a machine learning model with TensorFlow. \n",
        "- Preprocess the data if necessary.\n",
        "- Build a linear regression model.\n",
        "- Train the model.\n",
        "- Calculate the error metrics such as MSE and RMSE (in-sample and out-of-sample). Target: RMSE < 1."
      ]
    },
    {
      "cell_type": "code",
      "metadata": {
        "id": "kqOI8H2eKlDA"
      },
      "source": [
        "#preprocess the data \n",
        "df.isnull().sum()\n",
        "#Build a linear regression model\n",
        "warnings.filterwarnings(\"ignore\")\n",
        "tf.compat.v1.disable_eager_execution()\n",
        "x = df.iloc[:, 0].values.reshape(-1, 1)  # values converts it into a numpy array\n",
        "y = df.iloc[:, 1].values.reshape(-1, 1)  # -1 means that calculate the dimension of rows, but have 1 column\n",
        "b1 = tf.Variable(1.0)                # A constant initial value.\n",
        "b0 = tf.Variable(1.0)                # A constant initial value.\n",
        "X_ph = tf.placeholder(tf.float32)\n",
        "y_ph= tf.placeholder(tf.float32)\n",
        "# Model.\n",
        "# Not strictly necessary to apply the softmax activation. => in the end we will apply argmax() function to predict the label!\n",
        "# y_model = tf.nn.softmax(tf.matmul(X_ph, W) + b)\n",
        "# just keep the parameter inside the softmax function\n",
        "y_model= X_ph*b1 + b0\n",
        "loss = tf.reduce_mean(tf.square(y_ph - y_model))          # L2 loss.\n",
        "optimizer = tf.train.GradientDescentOptimizer(learning_rate=0.01)\n",
        "# optimizer = tf.train.MomentumOptimizer(learning_rate = 0.001, momentum=0.9)   # Momentum optimizer.\n",
        "n_epochs = 1000                                       # N# of epochs (gradient descent steps).\n",
        "train = optimizer.minimize(loss)                     # Define training. Use optimizer.minimize(loss)\n",
        "init = tf.global_variables_initializer()                                          # Define Variable initialization.                                                     #Returns an Op that initializes global variablestf.global_variables_initializer().\n",
        "with tf.Session() as sess:\n",
        "  # Variables initialization.\n",
        "  sess.run(init)\n",
        "\n",
        "  # Training.\n",
        "  my_feed = {X_ph:x, y_ph:y}        #************** write your code here****************####                # Prepare feed data as a dictionary. \n",
        "\n",
        "  for i in range(n_epochs):\n",
        "            \n",
        "      sess.run(train, feed_dict = my_feed)\n",
        "  b0_model, b1_model = sess.run([b0, b1])                   # Get the final values of the Variables.\n",
        "  # Testing.\n",
        "\n",
        "  mse_value = sess.run(loss, feed_dict = my_feed)            # Calculate the in-sample MSE.\n"
      ],
      "execution_count": 19,
      "outputs": []
    },
    {
      "cell_type": "code",
      "metadata": {
        "colab": {
          "base_uri": "https://localhost:8080/"
        },
        "id": "2lAgk197Pdvv",
        "outputId": "2735449d-115b-4587-c79f-f0956b89dd4f"
      },
      "source": [
        "#Display the result\n",
        "print(\"Parameters b0 = {:5.3f} , b1 = {:5.3f}\".format(b0_model, b1_model))"
      ],
      "execution_count": 20,
      "outputs": [
        {
          "output_type": "stream",
          "name": "stdout",
          "text": [
            "Parameters b0 = 30.976 , b1 = -0.638\n"
          ]
        }
      ]
    },
    {
      "cell_type": "code",
      "metadata": {
        "colab": {
          "base_uri": "https://localhost:8080/"
        },
        "id": "7VRpVnqIPoKI",
        "outputId": "f8c84412-bf11-4770-fa97-d28901b00a8f"
      },
      "source": [
        "print(\"MSE  = {:5.3f}\".format(mse_value))\n",
        "print(\"RMSE = {:5.3f}\".format(np.sqrt(mse_value)))\n",
        "# Define the testing data.\n",
        "x_new = np.array([2.5, 3.3, 4.2]).reshape(-1,1)"
      ],
      "execution_count": 23,
      "outputs": [
        {
          "output_type": "stream",
          "name": "stdout",
          "text": [
            "MSE  = 156.244\n",
            "RMSE = 12.500\n"
          ]
        }
      ]
    },
    {
      "cell_type": "code",
      "metadata": {
        "id": "eHeutqr6QC0G"
      },
      "source": [
        "X_th =tf.placeholder(tf.float32)\n",
        "y_model = X_th*b1_model + b0_model"
      ],
      "execution_count": 24,
      "outputs": []
    },
    {
      "cell_type": "code",
      "metadata": {
        "id": "yomZmwytQEV_"
      },
      "source": [
        "with tf.Session() as sess:\n",
        "        my_feed = {X_th:study_new}\n",
        "        y_pred_value = sess.run(y_model, feed_dict=my_feed    )  "
      ],
      "execution_count": 25,
      "outputs": []
    },
    {
      "cell_type": "code",
      "metadata": {
        "colab": {
          "base_uri": "https://localhost:8080/"
        },
        "id": "QpUDWZ3GQLyE",
        "outputId": "6e04de62-ef79-4c7a-990e-842278a82877"
      },
      "source": [
        "# Predicted y values.\n",
        "print(y_pred_value)"
      ],
      "execution_count": 26,
      "outputs": [
        {
          "output_type": "stream",
          "name": "stdout",
          "text": [
            "[[29.380682]\n",
            " [28.870333]\n",
            " [28.296192]]\n"
          ]
        }
      ]
    },
    {
      "cell_type": "code",
      "metadata": {
        "colab": {
          "base_uri": "https://localhost:8080/",
          "height": 285
        },
        "id": "ka-Otz0QQNnv",
        "outputId": "443d2a9c-ff5b-4a81-fc44-097cb836a53c"
      },
      "source": [
        "import matplotlib.pyplot as plt\n",
        "\n",
        "x1 = np.linspace(1,7,2)\n",
        "y1 = x * b1_model + b0_model\n",
        "\n",
        "\n",
        "plt.scatter(x,y )\n",
        "plt.plot(x,y)"
      ],
      "execution_count": 28,
      "outputs": [
        {
          "output_type": "execute_result",
          "data": {
            "text/plain": [
              "[<matplotlib.lines.Line2D at 0x7fc638ccb9d0>]"
            ]
          },
          "metadata": {},
          "execution_count": 28
        },
        {
          "output_type": "display_data",
          "data": {
            "image/png": "[encoded data removed]",
            "text/plain": [
              "<Figure size 432x288 with 1 Axes>"
            ]
          },
          "metadata": {
            "needs_background": "light"
          }
        }
      ]
    }
  ]
}