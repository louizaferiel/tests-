{
  "nbformat": 4,
  "nbformat_minor": 0,
  "metadata": {
    "kernelspec": {
      "display_name": "Python 3",
      "language": "python",
      "name": "python3"
    },
    "language_info": {
      "codemirror_mode": {
        "name": "ipython",
        "version": 3
      },
      "file_extension": ".py",
      "mimetype": "text/x-python",
      "name": "python",
      "nbconvert_exporter": "python",
      "pygments_lexer": "ipython3",
      "version": "3.7.3"
    },
    "colab": {
      "name": "ex_0303_1.ipynb",
      "provenance": []
    }
  },
  "cells": [
    {
      "cell_type": "markdown",
      "metadata": {
        "id": "j_dw8I1o6oFw"
      },
      "source": [
        "## Coding Exercise #0303"
      ]
    },
    {
      "cell_type": "markdown",
      "metadata": {
        "id": "uL5sD3mt6oF3"
      },
      "source": [
        "### 1. Descriptive statistics:"
      ]
    },
    {
      "cell_type": "code",
      "metadata": {
        "id": "z-9AUlXT6oF5"
      },
      "source": [
        "import pandas as pd\n",
        "import numpy as np\n",
        "import matplotlib.pyplot as plt\n",
        "import os\n",
        "%matplotlib inline"
      ],
      "execution_count": null,
      "outputs": []
    },
    {
      "cell_type": "code",
      "metadata": {
        "id": "6oF4I6EA6oF7"
      },
      "source": [
        "# Go to the directory where the data file is located. \n",
        "os.chdir(r'~~')                # Please, replace the path with your own.  "
      ],
      "execution_count": null,
      "outputs": []
    },
    {
      "cell_type": "code",
      "metadata": {
        "id": "Z4oRlWJG6oF8"
      },
      "source": [
        "# Read in the data.\n",
        "df = pd.read_csv('data_studentlist.csv', header='infer')"
      ],
      "execution_count": null,
      "outputs": []
    },
    {
      "cell_type": "code",
      "metadata": {
        "id": "ReriIrKD6oF9"
      },
      "source": [
        "df.shape"
      ],
      "execution_count": null,
      "outputs": []
    },
    {
      "cell_type": "code",
      "metadata": {
        "id": "D_U9V1BO6oF9"
      },
      "source": [
        "df.head(5)"
      ],
      "execution_count": null,
      "outputs": []
    },
    {
      "cell_type": "markdown",
      "metadata": {
        "id": "NUUXC3Le6oF_"
      },
      "source": [
        "#### 1.1. Sample statistics:"
      ]
    },
    {
      "cell_type": "code",
      "metadata": {
        "id": "M9QqRIeO-HE3"
      },
      "source": [
        "import numpy as np\n",
        "import pandas as pd\n",
        "import matplotlib.pyplot as plt\n",
        "import seaborn as sns"
      ],
      "execution_count": null,
      "outputs": []
    },
    {
      "cell_type": "code",
      "metadata": {
        "colab": {
          "base_uri": "https://localhost:8080/"
        },
        "id": "hyKoFmjfFlLa",
        "outputId": "9c3f4f87-03ad-4178-8a81-cf0fc2e85a90"
      },
      "source": [
        "df.age.cov(df.age)"
      ],
      "execution_count": null,
      "outputs": [
        {
          "output_type": "execute_result",
          "data": {
            "text/plain": [
              "211.01912474630802"
            ]
          },
          "metadata": {
            "tags": []
          },
          "execution_count": 15
        }
      ]
    },
    {
      "cell_type": "code",
      "metadata": {
        "id": "NAuFHF6N6oF_"
      },
      "source": [
        "# Unbiased mean.\n",
        "df['height'].mean()"
      ],
      "execution_count": null,
      "outputs": []
    },
    {
      "cell_type": "code",
      "metadata": {
        "id": "OtMH3gc76oGA"
      },
      "source": [
        "# Unbiased estimator of the variance.\n",
        "df['height'].var(ddof=1)"
      ],
      "execution_count": null,
      "outputs": []
    },
    {
      "cell_type": "code",
      "metadata": {
        "id": "M401-7Li6oGB"
      },
      "source": [
        "# Unbiased estimator of the standard deviation.\n",
        "df['height'].std(ddof=1)"
      ],
      "execution_count": null,
      "outputs": []
    },
    {
      "cell_type": "code",
      "metadata": {
        "id": "BHx_8zPS6oGB"
      },
      "source": [
        "# Median.\n",
        "df['height'].median()"
      ],
      "execution_count": null,
      "outputs": []
    },
    {
      "cell_type": "code",
      "metadata": {
        "id": "Z2MNB-Qf6oGC"
      },
      "source": [
        "# Minimum.\n",
        "df['height'].min()"
      ],
      "execution_count": null,
      "outputs": []
    },
    {
      "cell_type": "code",
      "metadata": {
        "id": "vDo7IpDJ6oGC"
      },
      "source": [
        "# Maximum.\n",
        "df['height'].max()"
      ],
      "execution_count": null,
      "outputs": []
    },
    {
      "cell_type": "code",
      "metadata": {
        "id": "vk-HRM3a6oGD"
      },
      "source": [
        "# Quantile at alpha = 0.1\n",
        "df['height'].quantile(0.1)"
      ],
      "execution_count": null,
      "outputs": []
    },
    {
      "cell_type": "code",
      "metadata": {
        "id": "ezbglNFj6oGE"
      },
      "source": [
        "# Quantile at alpha = 0.9\n",
        "df['height'].quantile(0.9)"
      ],
      "execution_count": null,
      "outputs": []
    },
    {
      "cell_type": "markdown",
      "metadata": {
        "id": "O2g0vInR6oGF"
      },
      "source": [
        "#### 1.2. Boxplot: "
      ]
    },
    {
      "cell_type": "code",
      "metadata": {
        "id": "F-C1Dnqv6oGF"
      },
      "source": [
        "# The Inter Quartile Range\n",
        "IQR = df['height'].quantile(0.75)- df['height'].quantile(0.25)\n",
        "IQR"
      ],
      "execution_count": null,
      "outputs": []
    },
    {
      "cell_type": "code",
      "metadata": {
        "id": "Oc7jel4P6oGG"
      },
      "source": [
        "# Show a Boxplot for the height.\n",
        "plt.boxplot(df['height'])\n",
        "plt.show()"
      ],
      "execution_count": null,
      "outputs": []
    },
    {
      "cell_type": "code",
      "metadata": {
        "id": "5vI0bPMq6oGG"
      },
      "source": [
        "# Show a Boxplot for the weight.\n",
        "plt.boxplot(df['weight'])\n",
        "plt.show()"
      ],
      "execution_count": null,
      "outputs": []
    },
    {
      "cell_type": "markdown",
      "metadata": {
        "id": "Z1ksRz3c6oGG"
      },
      "source": [
        "#### 1.3. Covariance and Correlation:"
      ]
    },
    {
      "cell_type": "code",
      "metadata": {
        "id": "q3_jq0Kx6oGH"
      },
      "source": [
        "# Covariance.\n",
        "df['height'].cov(df['weight'])"
      ],
      "execution_count": null,
      "outputs": []
    },
    {
      "cell_type": "code",
      "metadata": {
        "id": "E_0SpNCH6oGH"
      },
      "source": [
        "# Correlation.\n",
        "df['height'].corr(df['weight'])"
      ],
      "execution_count": null,
      "outputs": []
    },
    {
      "cell_type": "code",
      "metadata": {
        "colab": {
          "base_uri": "https://localhost:8080/",
          "height": 296
        },
        "id": "2ukzMNXl6oGH",
        "outputId": "7a669eab-4a79-449c-d4cc-250da8a48d83"
      },
      "source": [
        "# Calculate the correlation using the covariance.\n",
        "# We get the same result as above.\n",
        "# use the equation in the link : https://medium.com/analytics-vidhya/covariance-and-correlation-math-and-python-code-7cbef556baed\n",
        "df['height'].cov(df['weight'])/(df['height'].std()*df['weight'].std())"
      ],
      "execution_count": null,
      "outputs": [
        {
          "output_type": "execute_result",
          "data": {
            "text/plain": [
              "<matplotlib.axes._subplots.AxesSubplot at 0x7f6341b7c410>"
            ]
          },
          "metadata": {
            "tags": []
          },
          "execution_count": 17
        },
        {
          "output_type": "display_data",
          "data": {
            "image/png": "[encoded data removed]",
            "text/plain": [
              "<Figure size 432x288 with 1 Axes>"
            ]
          },
          "metadata": {
            "tags": [],
            "needs_background": "light"
          }
        }
      ]
    },
    {
      "cell_type": "markdown",
      "metadata": {
        "id": "KwMi_9_t6oGI"
      },
      "source": [
        "#### 1.4. Visualization:"
      ]
    },
    {
      "cell_type": "code",
      "metadata": {
        "id": "QrvE4-M46oGI"
      },
      "source": [
        "# Visually inspect the relationship between X and Y.\n",
        "df.plot.scatter(x='weight',y='height')\n",
        "plt.show()"
      ],
      "execution_count": null,
      "outputs": []
    },
    {
      "cell_type": "code",
      "metadata": {
        "id": "cTLGGGGH6oGI"
      },
      "source": [
        "# Visually inspect the relationship between X and Y.\n",
        "# Distinguish the gender by color.\n",
        "base=df[df.gender=='M'].plot.scatter(x='height', y='weight',color='blue',marker='o',s=20)\n",
        "df[df.gender=='F'].plot.scatter(x='height', y='weight',color='red',marker='o',s=20, ax=base)\n",
        "plt.show()"
      ],
      "execution_count": null,
      "outputs": []
    },
    {
      "cell_type": "code",
      "metadata": {
        "id": "ABqUpw5M6oGJ"
      },
      "source": [
        ""
      ],
      "execution_count": null,
      "outputs": []
    }
  ]
}