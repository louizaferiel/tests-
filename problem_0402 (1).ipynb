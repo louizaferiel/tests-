{
  "nbformat": 4,
  "nbformat_minor": 0,
  "metadata": {
    "kernelspec": {
      "display_name": "Python 3",
      "language": "python",
      "name": "python3"
    },
    "language_info": {
      "codemirror_mode": {
        "name": "ipython",
        "version": 3
      },
      "file_extension": ".py",
      "mimetype": "text/x-python",
      "name": "python",
      "nbconvert_exporter": "python",
      "pygments_lexer": "ipython3",
      "version": "3.7.3"
    },
    "colab": {
      "name": "problem_0402.ipynb",
      "provenance": []
    }
  },
  "cells": [
    {
      "cell_type": "markdown",
      "metadata": {
        "id": "fymIZnE2HiSk"
      },
      "source": [
        "## Quiz #0402"
      ]
    },
    {
      "cell_type": "markdown",
      "metadata": {
        "id": "ev6UMwZsHiSq"
      },
      "source": [
        "### \"OLS solution\""
      ]
    },
    {
      "cell_type": "code",
      "metadata": {
        "id": "KjB62CZXHiSs"
      },
      "source": [
        "import numpy as np\n",
        "import pandas as pd"
      ],
      "execution_count": null,
      "outputs": []
    },
    {
      "cell_type": "markdown",
      "metadata": {
        "id": "anHya6yqHiSt"
      },
      "source": [
        "#### Answer the following question by providing Python code:\n",
        "<br>\n",
        "study = an array that contains the hours of study. This is the explanatory variable. <br>\n",
        "score = an array that contains the test scores. This is the response variable."
      ]
    },
    {
      "cell_type": "code",
      "metadata": {
        "id": "medl6inpHiSu"
      },
      "source": [
        "study = np.array([ 3, 4.5, 6, 1.2, 2, 6.9, 6.7, 5.5]).reshape(-1,1)\n",
        "score = np.array([ 88, 85, 90, 80, 81, 92, 95, 90]).reshape(-1,1)"
      ],
      "execution_count": null,
      "outputs": []
    },
    {
      "cell_type": "markdown",
      "metadata": {
        "id": "DmOxv3DsHiSv"
      },
      "source": [
        "1). Define the 'linerRegression' class to match the output shown below:"
      ]
    },
    {
      "cell_type": "code",
      "metadata": {
        "id": "cB51PpzbHiSw"
      },
      "source": [
        "\n",
        "class linearRegression:\n",
        "\n",
        "\n",
        "  def init(self,x,y):\n",
        "      self.x = x\n",
        "      self.y = y\n",
        "      x = sm.add_constant(x)\n",
        "\n",
        "\n",
        "\n",
        "  def train(self, input_X, input_Y):\n",
        "      n = input_X.shape[0]                                      # Number of observations.\n",
        "      k = input_X.shape[1]                                      # Number of explanatory variables.\n",
        "\n",
        "      # Regression Coefficients by OLS.\n",
        "      self.beta = x - np.dot(Y,self.residuals)\n",
        "\n",
        "      # Residuals.\n",
        "      self.residuals = Y - np.dot(X,self.beta)\n",
        "\n",
        "\n",
        "      # R^2.\n",
        "\n",
        "  def corr_coef(self,x, y):\n",
        "      N = len(x)\n",
        "      num = (N * (x*y).sum()) - (x.sum() * y.sum())\n",
        "      den = np.sqrt((N * (x2).sum() - x.sum()) * (N * (y2).sum() - y.sum()))\n",
        "      R = num / den\n",
        "      return R\n",
        "\n",
        "\n",
        "      # Summary.\n",
        "  def summary():\n",
        "      result = sm.OLS(y, x).fit()\n",
        "      return result.summary()\n",
        "\n",
        "\n",
        "\n",
        "\n",
        "      def output(self,x,y):\n",
        "          print('Intercept:', results.Intercept)\n",
        "          print('X1 :', results.X1)\n",
        "          print('r^2:', results.rsquared)"
      ],
      "execution_count": 3,
      "outputs": []
    },
    {
      "cell_type": "markdown",
      "metadata": {
        "id": "TTNJUDEMHiSy"
      },
      "source": [
        "**Sample run:**"
      ]
    },
    {
      "cell_type": "code",
      "metadata": {
        "id": "u6tzBl78HiSz"
      },
      "source": [
        "LR = linearRegression()                    # Create a linear regression object.                               # Display the training result."
      ],
      "execution_count": 6,
      "outputs": []
    },
    {
      "cell_type": "code",
      "metadata": {
        "id": "XbUPcW1nHiS2"
      },
      "source": [
        ""
      ],
      "execution_count": null,
      "outputs": []
    }
  ]
}