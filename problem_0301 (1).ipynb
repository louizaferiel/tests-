{
  "nbformat": 4,
  "nbformat_minor": 0,
  "metadata": {
    "kernelspec": {
      "display_name": "Python 3",
      "language": "python",
      "name": "python3"
    },
    "language_info": {
      "codemirror_mode": {
        "name": "ipython",
        "version": 3
      },
      "file_extension": ".py",
      "mimetype": "text/x-python",
      "name": "python",
      "nbconvert_exporter": "python",
      "pygments_lexer": "ipython3",
      "version": "3.7.3"
    },
    "colab": {
      "name": "problem_0301.ipynb",
      "provenance": []
    }
  },
  "cells": [
    {
      "cell_type": "markdown",
      "metadata": {
        "id": "qouuqc4_5i9i"
      },
      "source": [
        "## Quiz #0301"
      ]
    },
    {
      "cell_type": "markdown",
      "metadata": {
        "id": "cUHMXBV_5i9s"
      },
      "source": [
        "### \"Sample size\""
      ]
    },
    {
      "cell_type": "code",
      "metadata": {
        "id": "kovy-EY65i9u"
      },
      "source": [
        "import numpy as np\n",
        "import scipy.stats as st"
      ],
      "execution_count": null,
      "outputs": []
    },
    {
      "cell_type": "markdown",
      "metadata": {
        "id": "MeLP0I__5i9w"
      },
      "source": [
        "#### Answer the following questions by providing Python code:"
      ]
    },
    {
      "cell_type": "markdown",
      "metadata": {
        "id": "yvVJtPox5i9y"
      },
      "source": [
        "The female students are known to have mean weight $\\mu=58$kg with  $\\sigma=3$kg. <br>\n",
        "Calculate the *minimum* sample size in each of the following cases."
      ]
    },
    {
      "cell_type": "code",
      "metadata": {
        "id": "Q76VD-fK5i9y"
      },
      "source": [
        "mu = 58.0\n",
        "sigma = 3.0"
      ],
      "execution_count": 6,
      "outputs": []
    },
    {
      "cell_type": "markdown",
      "metadata": {
        "id": "64nh6iVH5i90"
      },
      "source": [
        "1). When we target the standard error less than 1kg:"
      ]
    },
    {
      "cell_type": "code",
      "metadata": {
        "id": "FQ95-yd65i92"
      },
      "source": [
        "import scipy.stats as st \n",
        "import numpy as np \n",
        "n=1\n",
        "standard_error=sigma/np.sqrt(n)  \n",
        "# initialize n to be 1\n",
        "# use infinite loop \n",
        "#while (sigma/np.sqrt(n))>=1:\n",
        "  # increment n by 1 n=n+1 \n",
        "  print(\"Minimum samples required for stand..\")"
      ],
      "execution_count": 16,
      "outputs": []
    },
    {
      "cell_type": "markdown",
      "metadata": {
        "id": "MHSdU9Hd5i93"
      },
      "source": [
        "2). When we want the full width of the 95% confidence interval to be less than 2kg: <br>\n",
        "NOTE: Use the Standard Normal distribution."
      ]
    },
    {
      "cell_type": "code",
      "metadata": {
        "colab": {
          "base_uri": "https://localhost:8080/"
        },
        "id": "GxBrwg0D5i95",
        "outputId": "a7db37e6-d9c6-4947-91ad-7f1b1940be19"
      },
      "source": [
        "def mean_confidence_interval(data, confidence=0.95):\n",
        "    a = 1.0 * np.array(data)\n",
        "    n = len(a)\n",
        "    m, se = np.mean(a), scipy.stats.sem(a)\n",
        "    h = se * scipy.stats.t.ppf((1 + confidence) / 2., n-1)\n",
        "    return m, m-h, m+h\n",
        "a = range(0,2)\n",
        "st.norm.interval(0.95, loc=mu, scale=sigma)"
      ],
      "execution_count": 21,
      "outputs": [
        {
          "output_type": "execute_result",
          "data": {
            "text/plain": [
              "(52.12010804637984, 63.87989195362016)"
            ]
          },
          "metadata": {},
          "execution_count": 21
        }
      ]
    },
    {
      "cell_type": "markdown",
      "metadata": {
        "id": "AQB07Y7W5i97"
      },
      "source": [
        "3). When we want the full width of the 95% confidence interval to be less than 2kg: <br>\n",
        "NOTE: Use the Student-t distribution. <br>\n",
        "HINT: As the Student-t distribution depends on $n$, it is not as straightforward as in the Stadard Normal case."
      ]
    },
    {
      "cell_type": "code",
      "metadata": {
        "colab": {
          "base_uri": "https://localhost:8080/"
        },
        "id": "FBDVGMa05i99",
        "outputId": "fa98e5dd-5eeb-4d69-ada3-4e407cab3999"
      },
      "source": [
        "def mean_confidence_interval(data, confidence=0.95):\n",
        "    a = 1.0 * np.array(data)\n",
        "    n = len(a)\n",
        "    m, se = np.mean(a), scipy.stats.sem(a)\n",
        "    h = se * scipy.stats.t.ppf((1 + confidence) / 2., n-1)\n",
        "    return m, m-h, m+h\n",
        "a = range(0,2)\n",
        "st.t.interval(0.95, len(a)-1, loc=np.mean(a), scale=st.sem(a))"
      ],
      "execution_count": 20,
      "outputs": [
        {
          "output_type": "execute_result",
          "data": {
            "text/plain": [
              "(-5.853102368216048, 6.853102368216048)"
            ]
          },
          "metadata": {},
          "execution_count": 20
        }
      ]
    },
    {
      "cell_type": "code",
      "metadata": {
        "id": "2LcU2e0x5i99"
      },
      "source": [
        ""
      ],
      "execution_count": null,
      "outputs": []
    }
  ]
}