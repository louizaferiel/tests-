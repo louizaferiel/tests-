{
  "nbformat": 4,
  "nbformat_minor": 0,
  "metadata": {
    "kernelspec": {
      "display_name": "Python 3",
      "language": "python",
      "name": "python3"
    },
    "language_info": {
      "codemirror_mode": {
        "name": "ipython",
        "version": 3
      },
      "file_extension": ".py",
      "mimetype": "text/x-python",
      "name": "python",
      "nbconvert_exporter": "python",
      "pygments_lexer": "ipython3",
      "version": "3.7.3"
    },
    "colab": {
      "name": "problem_0302.ipynb",
      "provenance": []
    }
  },
  "cells": [
    {
      "cell_type": "markdown",
      "metadata": {
        "id": "oLKB7FUKphhJ"
      },
      "source": [
        "## Quiz #0302"
      ]
    },
    {
      "cell_type": "markdown",
      "metadata": {
        "id": "KqWtmkqrphhL"
      },
      "source": [
        "### \"Bolt specification\""
      ]
    },
    {
      "cell_type": "code",
      "metadata": {
        "id": "01EflWqlphhM"
      },
      "source": [
        "import numpy as np\n",
        "import scipy.stats as st"
      ],
      "execution_count": 4,
      "outputs": []
    },
    {
      "cell_type": "markdown",
      "metadata": {
        "id": "kTjKrLdIphhN"
      },
      "source": [
        "#### Answer the following questions by providing Python code:"
      ]
    },
    {
      "cell_type": "markdown",
      "metadata": {
        "id": "3F1Ukq-BphhN"
      },
      "source": [
        "According to the specification sheet, the average weight of the bolts is $\\mu = 30$gr with $\\sigma = 2$gr.<br>\n",
        "Suppose that a sample of 50 bolts is drawn. "
      ]
    },
    {
      "cell_type": "code",
      "metadata": {
        "id": "jug-OPSaphhO"
      },
      "source": [
        "mu = 30\n",
        "sigma = 2\n",
        "n = 50\n",
        "df = n-1"
      ],
      "execution_count": 1,
      "outputs": []
    },
    {
      "cell_type": "markdown",
      "metadata": {
        "id": "cY-7NX6mphhO"
      },
      "source": [
        "1). What is the probability that the sample mean is **between** 29.8gr and 30.2gr? (Use Standard Normal and Student-t)"
      ]
    },
    {
      "cell_type": "code",
      "metadata": {
        "id": "70wk6dT1phhO"
      },
      "source": [
        ""
      ],
      "execution_count": null,
      "outputs": []
    },
    {
      "cell_type": "code",
      "metadata": {
        "colab": {
          "base_uri": "https://localhost:8080/"
        },
        "id": "ZtEFAPGaphhP",
        "outputId": "94f683e1-3e71-4d25-9250-34235163a8cd"
      },
      "source": [
        "# Using the Standard Normal.\n",
        "def mean_confidence_interval(data, confidence=0.95):\n",
        "    a = 1.0 * np.array(data)\n",
        "    n = len(a)\n",
        "    m, se = np.mean(a), scipy.stats.sem(a)\n",
        "    h = se * scipy.stats.t.ppf((1 + confidence) / 2., n-1)\n",
        "    return m, m-h, m+h\n",
        "a = range(29,30)\n",
        "st.t.interval(0.95, len(a)-1, loc=np.mean(a), scale=st.sem(a))"
      ],
      "execution_count": 5,
      "outputs": [
        {
          "output_type": "stream",
          "text": [
            "/usr/local/lib/python3.7/dist-packages/numpy/core/_methods.py:234: RuntimeWarning: Degrees of freedom <= 0 for slice\n",
            "  keepdims=keepdims)\n",
            "/usr/local/lib/python3.7/dist-packages/numpy/core/_methods.py:226: RuntimeWarning: invalid value encountered in double_scalars\n",
            "  ret = ret.dtype.type(ret / rcount)\n"
          ],
          "name": "stderr"
        },
        {
          "output_type": "execute_result",
          "data": {
            "text/plain": [
              "(nan, nan)"
            ]
          },
          "metadata": {},
          "execution_count": 5
        }
      ]
    },
    {
      "cell_type": "code",
      "metadata": {
        "colab": {
          "base_uri": "https://localhost:8080/"
        },
        "id": "NpUyvOiUphhP",
        "outputId": "55c106b6-b987-41c9-e643-cbb25af1bb0c"
      },
      "source": [
        "# Using the Student-t.\n",
        "def mean_confidence_interval(data, confidence=0.95):\n",
        "    a = 1.0 * np.array(data)\n",
        "    n = len(a)\n",
        "    m, se = np.mean(a), scipy.stats.sem(a)\n",
        "    h = se * scipy.stats.t.ppf((1 + confidence) / 2., n-1)\n",
        "    return m, m-h, m+h\n",
        "a = range(0,2)\n",
        "st.norm.interval(0.95, loc=mu, scale=sigma)"
      ],
      "execution_count": 6,
      "outputs": [
        {
          "output_type": "execute_result",
          "data": {
            "text/plain": [
              "(26.080072030919894, 33.919927969080106)"
            ]
          },
          "metadata": {},
          "execution_count": 6
        }
      ]
    },
    {
      "cell_type": "markdown",
      "metadata": {
        "id": "LvN8BH7KphhP"
      },
      "source": [
        "2). What is the probability that the sample mean is **larger** than 30.5gr? (Use Standard Normal and Student-t)"
      ]
    },
    {
      "cell_type": "code",
      "metadata": {
        "id": "wT5exUdPphhQ"
      },
      "source": [
        ""
      ],
      "execution_count": null,
      "outputs": []
    },
    {
      "cell_type": "code",
      "metadata": {
        "id": "0WQugn2tphhQ"
      },
      "source": [
        "# Using the Standard Normal.\n"
      ],
      "execution_count": null,
      "outputs": []
    },
    {
      "cell_type": "code",
      "metadata": {
        "id": "6HtNOxHqphhQ"
      },
      "source": [
        "# Using the Student-t.\n"
      ],
      "execution_count": null,
      "outputs": []
    },
    {
      "cell_type": "code",
      "metadata": {
        "id": "ztN1Xn5uphhQ"
      },
      "source": [
        ""
      ],
      "execution_count": null,
      "outputs": []
    }
  ]
}