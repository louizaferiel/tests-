{
  "nbformat": 4,
  "nbformat_minor": 0,
  "metadata": {
    "kernelspec": {
      "display_name": "Python 3",
      "language": "python",
      "name": "python3"
    },
    "language_info": {
      "codemirror_mode": {
        "name": "ipython",
        "version": 3
      },
      "file_extension": ".py",
      "mimetype": "text/x-python",
      "name": "python",
      "nbconvert_exporter": "python",
      "pygments_lexer": "ipython3",
      "version": "3.7.3"
    },
    "colab": {
      "name": "ex_0304.ipynb",
      "provenance": []
    }
  },
  "cells": [
    {
      "cell_type": "markdown",
      "metadata": {
        "id": "ERB81icxB9pM"
      },
      "source": [
        "## Coding Exercise #0304"
      ]
    },
    {
      "cell_type": "markdown",
      "metadata": {
        "id": "vaXBM2oeB9pS"
      },
      "source": [
        "### 1. Quantile:"
      ]
    },
    {
      "cell_type": "code",
      "metadata": {
        "id": "fxErs11AB9pT"
      },
      "source": [
        "import scipy.stats as st\n",
        "import numpy as np"
      ],
      "execution_count": null,
      "outputs": []
    },
    {
      "cell_type": "markdown",
      "metadata": {
        "id": "fDcgYo-lB9pU"
      },
      "source": [
        "#### 1.1. Standard Normal:"
      ]
    },
    {
      "cell_type": "code",
      "metadata": {
        "id": "A9tqDsnSB9pU"
      },
      "source": [
        "# Standard Normal corresponds to mu = 0 and sigma = 1.\n",
        "mu = 0\n",
        "sigma = 1"
      ],
      "execution_count": null,
      "outputs": []
    },
    {
      "cell_type": "code",
      "metadata": {
        "colab": {
          "base_uri": "https://localhost:8080/"
        },
        "id": "mkhIUFpqB9pV",
        "outputId": "461888b7-53f3-43b8-8fa2-692907ac817b"
      },
      "source": [
        "# Quantile at alpha = 0.95\n",
        "# This is useful when calculating 90% confidence interval.\n",
        "alpha = 0.95\n",
        "st.norm.ppf(alpha, loc = mu , scale = sigma)"
      ],
      "execution_count": null,
      "outputs": [
        {
          "output_type": "execute_result",
          "data": {
            "text/plain": [
              "1.6448536269514722"
            ]
          },
          "metadata": {
            "tags": []
          },
          "execution_count": 5
        }
      ]
    },
    {
      "cell_type": "code",
      "metadata": {
        "colab": {
          "base_uri": "https://localhost:8080/"
        },
        "id": "_X76XBUQB9pX",
        "outputId": "a3633d4a-9b56-41ad-e07e-848edd4f4602"
      },
      "source": [
        "# Quantile at alpha = 0.975\n",
        "# This is useful when calculating 95% confidence interval.\n",
        "alpha = 0.975\n",
        "st.norm.ppf(alpha, loc = mu , scale = sigma)"
      ],
      "execution_count": null,
      "outputs": [
        {
          "output_type": "execute_result",
          "data": {
            "text/plain": [
              "1.959963984540054"
            ]
          },
          "metadata": {
            "tags": []
          },
          "execution_count": 6
        }
      ]
    },
    {
      "cell_type": "markdown",
      "metadata": {
        "id": "PcZVfakUB9pY"
      },
      "source": [
        "#### 1.2. Student-t:"
      ]
    },
    {
      "cell_type": "code",
      "metadata": {
        "colab": {
          "base_uri": "https://localhost:8080/"
        },
        "id": "gnoVIjoQB9pZ",
        "outputId": "7118c2c7-e362-4bd3-fe38-122a09b6adf3"
      },
      "source": [
        "# Quantiles at alpha = 0.95 with changing degree of freedom.\n",
        "alpha=0.95\n",
        "for df in [10,50,100,2000,100000]:\n",
        "    val = st.t.ppf(alpha,df)\n",
        "    print( 'Degree of Freedom = %7d,  Quantile = %10f' %(df,val))"
      ],
      "execution_count": null,
      "outputs": [
        {
          "output_type": "stream",
          "text": [
            "Degree of Freedom =      10,  Quantile =   1.812461\n",
            "Degree of Freedom =      50,  Quantile =   1.675905\n",
            "Degree of Freedom =     100,  Quantile =   1.660234\n",
            "Degree of Freedom =    2000,  Quantile =   1.645616\n",
            "Degree of Freedom =  100000,  Quantile =   1.644869\n"
          ],
          "name": "stdout"
        }
      ]
    },
    {
      "cell_type": "code",
      "metadata": {
        "id": "3U3P8kLuB9pZ"
      },
      "source": [
        "# Quantiles at alpha = 0.975 with changing degree of freedom.\n",
        "alpha=0.95\n",
        "alpha=0.975\n",
        "for df in [10,50,100,2000,100000]:\n",
        "    val = st.t.ppf(alpha,df)\n",
        "    print( 'Degree of Freedom = %7d,  Quantile = %10f' %(df,val))"
      ],
      "execution_count": null,
      "outputs": []
    },
    {
      "cell_type": "markdown",
      "metadata": {
        "id": "RvkYF7SgB9pa"
      },
      "source": [
        "# #### 1.3. Chi-square:"
      ]
    },
    {
      "cell_type": "code",
      "metadata": {
        "id": "NEgOonLGB9pa"
      },
      "source": [
        "# P(X <= 8) with degree of freedom = 5.\n",
        "df = 5\n",
        "st.chi2.cdf(8, df)"
      ],
      "execution_count": null,
      "outputs": []
    },
    {
      "cell_type": "code",
      "metadata": {
        "colab": {
          "base_uri": "https://localhost:8080/"
        },
        "id": "5a5s_qPFB9pb",
        "outputId": "7bd0f35c-ed56-4091-a913-2bfa9504a8d9"
      },
      "source": [
        "# Quantile at alpha = 0.843764373 with degree of freedom = 5\n",
        "df = 5\n",
        "alpha = 0.843764373\n",
        "st.chi2.ppf(alpha, df)"
      ],
      "execution_count": null,
      "outputs": [
        {
          "output_type": "execute_result",
          "data": {
            "text/plain": [
              "8.000000010482703"
            ]
          },
          "metadata": {
            "tags": []
          },
          "execution_count": 8
        }
      ]
    },
    {
      "cell_type": "markdown",
      "metadata": {
        "id": "ECWPZZ0zB9pb"
      },
      "source": [
        "*So, have verified that the Quantile is indeed an inverse function of the CDF.*"
      ]
    },
    {
      "cell_type": "code",
      "metadata": {
        "id": "JAkVbzz1B9pc"
      },
      "source": [
        ""
      ],
      "execution_count": null,
      "outputs": []
    }
  ]
}