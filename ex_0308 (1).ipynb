{
  "nbformat": 4,
  "nbformat_minor": 0,
  "metadata": {
    "kernelspec": {
      "display_name": "Python 3",
      "language": "python",
      "name": "python3"
    },
    "language_info": {
      "codemirror_mode": {
        "name": "ipython",
        "version": 3
      },
      "file_extension": ".py",
      "mimetype": "text/x-python",
      "name": "python",
      "nbconvert_exporter": "python",
      "pygments_lexer": "ipython3",
      "version": "3.7.3"
    },
    "colab": {
      "name": "ex_0308.ipynb",
      "provenance": []
    }
  },
  "cells": [
    {
      "cell_type": "markdown",
      "metadata": {
        "id": "wJF_UD7BCXT2"
      },
      "source": [
        "## Coding Exercise #0308"
      ]
    },
    {
      "cell_type": "code",
      "metadata": {
        "id": "w6oDj85YGpot"
      },
      "source": [
        ""
      ],
      "execution_count": null,
      "outputs": []
    },
    {
      "cell_type": "markdown",
      "metadata": {
        "id": "BvN5uzzICXT4"
      },
      "source": [
        "[link text](https://)###  1. Hypothesis Test of the Means:"
      ]
    },
    {
      "cell_type": "markdown",
      "metadata": {
        "id": "RNU-n3QhCXT5"
      },
      "source": [
        "#### 1.1. One sample t-test:"
      ]
    },
    {
      "cell_type": "code",
      "metadata": {
        "id": "kiHZ6JtxCXT6"
      },
      "source": [
        "import numpy as np\n",
        "import scipy.stats as st"
      ],
      "execution_count": null,
      "outputs": []
    },
    {
      "cell_type": "code",
      "metadata": {
        "id": "KCACOF7ZCXT7"
      },
      "source": [
        "# Simulate one sample x with Normal distribution.\n",
        "# mu = 3, sigma = 2, n = 10.\n",
        "n = 10\n",
        "mu = 3\n",
        "sigma = 2\n",
        "np.random.seed(1234)\n",
        "x = np.random.randn(n)*sigma + mu"
      ],
      "execution_count": null,
      "outputs": []
    },
    {
      "cell_type": "markdown",
      "metadata": {
        "id": "7HC-8BNuCXT8"
      },
      "source": [
        "**Two tail test:**"
      ]
    },
    {
      "cell_type": "code",
      "metadata": {
        "id": "pGdANKuhCXT9",
        "colab": {
          "base_uri": "https://localhost:8080/"
        },
        "outputId": "5d158829-048a-45a9-d8f1-52c701e1b9a5"
      },
      "source": [
        "# Using the ttest_1samp() function from the SciPy library.\n",
        "# Compare the mean with 0.\n",
        "mu_0 = 0\n",
        "st.ttest_1samp(x, mu_0)"
      ],
      "execution_count": null,
      "outputs": [
        {
          "output_type": "execute_result",
          "data": {
            "text/plain": [
              "Ttest_1sampResult(statistic=3.8682023385794677, pvalue=0.0037991794351627216)"
            ]
          },
          "metadata": {
            "tags": []
          },
          "execution_count": 3
        }
      ]
    },
    {
      "cell_type": "code",
      "metadata": {
        "id": "8q9sJcLBCXT-",
        "colab": {
          "base_uri": "https://localhost:8080/"
        },
        "outputId": "97dccf4b-4c8d-442e-9e8d-6139125cfc32"
      },
      "source": [
        "# Using the formula from the lecture.\n",
        "# Compare the mean with 0.\n",
        "mu_0 = 0\n",
        "x_mean = x.mean()                                      # Sample mean.\n",
        "SEM = x.std(ddof=1)/np.sqrt(n)                         # Standard error of the mean.\n",
        "p_value = (1-st.t.cdf((x_mean-mu_0)/SEM,df=n-1))*2\n",
        "p_value"
      ],
      "execution_count": null,
      "outputs": [
        {
          "output_type": "execute_result",
          "data": {
            "text/plain": [
              "0.003799179435162836"
            ]
          },
          "metadata": {
            "tags": []
          },
          "execution_count": 4
        }
      ]
    },
    {
      "cell_type": "code",
      "metadata": {
        "id": "-_HHtgIwCXT-"
      },
      "source": [
        "# Using the formula from the lecture.\n",
        "# Compare the mean with 1.\n",
        "mu_0 = 1\n",
        "p_value = (1-st.t.cdf((x_mean-mu_0)/SEM,df=n-1))*2         # Use the same x_mean and SEM as above.\n",
        "p_value"
      ],
      "execution_count": null,
      "outputs": []
    },
    {
      "cell_type": "code",
      "metadata": {
        "id": "uLGICuAUCXT_"
      },
      "source": [
        "# Using the formula from the lecture.\n",
        "# Compare the mean with 2.\n",
        "mu_0 = 2\n",
        "p_value = (1-st.t.cdf((x_mean-mu_0)/SEM,df=n-1))*2         # Use the same x_mean and SEM as above.\n",
        "p_value"
      ],
      "execution_count": null,
      "outputs": []
    },
    {
      "cell_type": "markdown",
      "metadata": {
        "id": "3FyZoR9rCXUA"
      },
      "source": [
        "**Right tail test:**"
      ]
    },
    {
      "cell_type": "code",
      "metadata": {
        "id": "G4NTYVy9CXUA"
      },
      "source": [
        "# Using the formula from the lecture.\n",
        "# Compare the mean with 0.\n",
        "mu_0 = 0\n",
        "p_value = (1-st.t.cdf((x_mean-mu_0)/SEM,df=n-1))           # Use the same x_mean and SEM as above.\n",
        "p_value"
      ],
      "execution_count": null,
      "outputs": []
    },
    {
      "cell_type": "code",
      "metadata": {
        "id": "4-xOPop4CXUB"
      },
      "source": [
        "# Using the formula from the lecture.\n",
        "# Compare the mean with 1.\n",
        "mu_0 = 1\n",
        "p_value = (1-st.t.cdf((x_mean-mu_0)/SEM,df=n-1))           # Use the same x_mean and SEM as above.\n",
        "p_value"
      ],
      "execution_count": null,
      "outputs": []
    },
    {
      "cell_type": "code",
      "metadata": {
        "id": "gW3hcMZXCXUB"
      },
      "source": [
        "# Using the formula from the lecture.\n",
        "# Compare the mean with 2.\n",
        "mu_0 = 2\n",
        "p_value = (1-st.t.cdf((x_mean-mu_0)/SEM,df=n-1))           # Use the same x_mean and SEM as above.\n",
        "p_value"
      ],
      "execution_count": null,
      "outputs": []
    },
    {
      "cell_type": "markdown",
      "metadata": {
        "id": "KDwl5A5xCXUC"
      },
      "source": [
        "**Left tail test:**"
      ]
    },
    {
      "cell_type": "code",
      "metadata": {
        "id": "foheS2bjCXUC"
      },
      "source": [
        "# Using the formula from the lecture.\n",
        "# Compare the mean with 0.\n",
        "mu_0 = 0\n",
        "p_value = st.t.cdf((x_mean-mu_0)/SEM,df=n-1)              # Use the same x_mean and SEM as above.\n",
        "p_value"
      ],
      "execution_count": null,
      "outputs": []
    },
    {
      "cell_type": "code",
      "metadata": {
        "id": "kHX1jkzDCXUD"
      },
      "source": [
        "# Using the formula from the lecture.\n",
        "# Compare the mean with 1.\n",
        "mu_0 = 1\n",
        "p_value = st.t.cdf((x_mean-mu_0)/SEM,df=n-1)              # Use the same x_mean and SEM as above.\n",
        "p_value"
      ],
      "execution_count": null,
      "outputs": []
    },
    {
      "cell_type": "code",
      "metadata": {
        "id": "KNQNFuiACXUD"
      },
      "source": [
        "# Using the formula from the lecture.\n",
        "# Compare the mean with 2.\n",
        "mu_0 = 2\n",
        "p_value = st.t.cdf((x_mean-mu_0)/SEM,df=n-1)              # Use the same x_mean and SEM as above.\n",
        "p_value"
      ],
      "execution_count": null,
      "outputs": []
    },
    {
      "cell_type": "markdown",
      "metadata": {
        "id": "JCQaAVbYCXUD"
      },
      "source": [
        "#### 1.2. Independent two sample t-test:"
      ]
    },
    {
      "cell_type": "code",
      "metadata": {
        "id": "W66sUXY_CXUE"
      },
      "source": [
        "# Simulate two samples x1 and x2 with Normal distribution.\n",
        "# mu1 = 3, sigma1 = 2, n1= 10.\n",
        "# mu2 = 5, sigma2 = 3, n2= 20\n",
        "n1 = 10\n",
        "n2 = 20\n",
        "mu1 = 3\n",
        "mu2 = 5\n",
        "sigma1 = 2\n",
        "sigma2 = 3\n",
        "x1 = np.random.randn(n1)*sigma1 + mu1\n",
        "x2 = np.random.randn(n2)*sigma2 + mu2"
      ],
      "execution_count": null,
      "outputs": []
    },
    {
      "cell_type": "code",
      "metadata": {
        "id": "WwRW1mE0CXUE",
        "colab": {
          "base_uri": "https://localhost:8080/"
        },
        "outputId": "fff9800c-c366-47e7-aabc-1d794e5c6540"
      },
      "source": [
        "# Using dirrectly the dataset.\n",
        "# Assume different variances.\n",
        "# Two tail test.\n",
        "st.ttest_ind(x1,x2,equal_var=False)                                       "
      ],
      "execution_count": null,
      "outputs": [
        {
          "output_type": "execute_result",
          "data": {
            "text/plain": [
              "Ttest_indResult(statistic=-2.870701133767877, pvalue=0.009090146778647546)"
            ]
          },
          "metadata": {
            "tags": []
          },
          "execution_count": 6
        }
      ]
    },
    {
      "cell_type": "code",
      "metadata": {
        "id": "Tyf2dYU4CXUF",
        "colab": {
          "base_uri": "https://localhost:8080/"
        },
        "outputId": "8dce85d7-889e-4eeb-fc36-0bb105203604"
      },
      "source": [
        "# Using the statistic calculated with the dataset.\n",
        "# Assume different variances.\n",
        "# Two tail test.\n",
        "x1_mean = x1.mean()\n",
        "x2_mean = x2.mean()\n",
        "s1 = x1.std(ddof=1)\n",
        "s2 = x2.std(ddof=1)\n",
        "st.ttest_ind_from_stats(x1_mean,s1,n1,x2_mean,s2,n2,equal_var=False)    "
      ],
      "execution_count": null,
      "outputs": [
        {
          "output_type": "execute_result",
          "data": {
            "text/plain": [
              "Ttest_indResult(statistic=-2.870701133767877, pvalue=0.009090146778647546)"
            ]
          },
          "metadata": {
            "tags": []
          },
          "execution_count": 7
        }
      ]
    },
    {
      "cell_type": "markdown",
      "metadata": {
        "id": "ttxEMB_RCXUF"
      },
      "source": [
        "#### 1.3. Paired two sample t-test:"
      ]
    },
    {
      "cell_type": "code",
      "metadata": {
        "id": "R3kllJxVCXUG"
      },
      "source": [
        "# Simulate two samples with Normal distribution.\n",
        "# Notice that the x2 is created by adding some 'noise' to the x1.\n",
        "# So,'one to one' relation is established.\n",
        "n = 10\n",
        "x1 = np.random.randn(n)*5 + 3\n",
        "x2 = x1 + np.random.randn(n)*1 + 1"
      ],
      "execution_count": null,
      "outputs": []
    },
    {
      "cell_type": "code",
      "metadata": {
        "id": "MMOLu8xpCXUG"
      },
      "source": [
        "# Using the ttest_rel() function from the SciPy library. \n",
        "# Two tail test.\n",
        "st.ttest_rel(x1,x2)"
      ],
      "execution_count": null,
      "outputs": []
    },
    {
      "cell_type": "code",
      "metadata": {
        "id": "ep_HZKQ2CXUG"
      },
      "source": [
        "# Compare with the indepdent two sample t-test on the same dataset. \n",
        "# The p-value is completely diffetent!\n",
        "st.ttest_ind(x1,x2,equal_var=False)  "
      ],
      "execution_count": null,
      "outputs": []
    },
    {
      "cell_type": "markdown",
      "metadata": {
        "id": "_WG0iskHCXUH"
      },
      "source": [
        "#### 1.4. ANOVA:"
      ]
    },
    {
      "cell_type": "markdown",
      "metadata": {
        "id": "0x9HFhStCXUH"
      },
      "source": [
        "There are three groups of students. The data corresponds to the test scores. Determine whether there is any significant difference in the group test scores."
      ]
    },
    {
      "cell_type": "code",
      "metadata": {
        "id": "uIzUqGB9CXUI"
      },
      "source": [
        "# Data.\n",
        "x1 = np.array([82,93,61,74,69,70,53])\n",
        "x2 = np.array([71,62,85,94,78,66,71])\n",
        "x3 = np.array([64,73,87,91,56,78,87])"
      ],
      "execution_count": null,
      "outputs": []
    },
    {
      "cell_type": "code",
      "metadata": {
        "id": "xHTrGptmCXUI"
      },
      "source": [
        "# Using the f_onway() function from the SciPy library.\n",
        "res=st.f_oneway(x1,x2,x3)\n",
        "print(\"Test statistic  : %f \" % res[0] )\n",
        "print(\"p-value         : %f \" % res[1] )"
      ],
      "execution_count": null,
      "outputs": []
    },
    {
      "cell_type": "code",
      "metadata": {
        "id": "Db2gve0xCXUI"
      },
      "source": [
        ""
      ],
      "execution_count": null,
      "outputs": []
    }
  ]
}