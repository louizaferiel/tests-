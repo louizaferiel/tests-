{
  "nbformat": 4,
  "nbformat_minor": 0,
  "metadata": {
    "kernelspec": {
      "display_name": "Python 3",
      "language": "python",
      "name": "python3"
    },
    "language_info": {
      "codemirror_mode": {
        "name": "ipython",
        "version": 3
      },
      "file_extension": ".py",
      "mimetype": "text/x-python",
      "name": "python",
      "nbconvert_exporter": "python",
      "pygments_lexer": "ipython3",
      "version": "3.7.3"
    },
    "colab": {
      "name": "ex_0307.ipynb",
      "provenance": []
    }
  },
  "cells": [
    {
      "cell_type": "markdown",
      "metadata": {
        "id": "0T86ofUmCRKZ"
      },
      "source": [
        "## Coding Exercise #0307"
      ]
    },
    {
      "cell_type": "markdown",
      "metadata": {
        "id": "GIKvmKgqCRKc"
      },
      "source": [
        "### 1. Correlation:"
      ]
    },
    {
      "cell_type": "code",
      "metadata": {
        "id": "r0q0D85wCRKe"
      },
      "source": [
        "import pandas as pd\n",
        "import numpy as np\n",
        "import scipy.stats as st\n",
        "import os"
      ],
      "execution_count": null,
      "outputs": []
    },
    {
      "cell_type": "code",
      "metadata": {
        "id": "iWDrEt0YCRKg"
      },
      "source": [
        "# Go to the directory where the data file is located. \n",
        " os.chdir(r'~~')                # Please, replace the path with your own.  "
      ],
      "execution_count": null,
      "outputs": []
    },
    {
      "cell_type": "code",
      "metadata": {
        "id": "XXqz6fxqCRKh"
      },
      "source": [
        "# Read in the data.\n",
        "df = pd.read_csv('data_iris.csv', header='infer')"
      ],
      "execution_count": null,
      "outputs": []
    },
    {
      "cell_type": "code",
      "metadata": {
        "id": "-YsNI-rWCRKj"
      },
      "source": [
        "df.shape"
      ],
      "execution_count": null,
      "outputs": []
    },
    {
      "cell_type": "code",
      "metadata": {
        "id": "XgLpNeEBCRKk"
      },
      "source": [
        "df.head(3)"
      ],
      "execution_count": null,
      "outputs": []
    },
    {
      "cell_type": "code",
      "metadata": {
        "id": "hrpX92WPCRKk"
      },
      "source": [
        "# Set aside two variables.\n",
        "x = df['Petal.Length']\n",
        "y = df['Sepal.Length']"
      ],
      "execution_count": null,
      "outputs": []
    },
    {
      "cell_type": "markdown",
      "metadata": {
        "id": "UK8_bibDCRKl"
      },
      "source": [
        "#### 1.1. Pearson:"
      ]
    },
    {
      "cell_type": "code",
      "metadata": {
        "id": "PLyPCsFhCRKl"
      },
      "source": [
        "# Using the SciPy function.\n",
        "# Correlation and p-value.\n",
        "np.round(st.pearsonr(x,y),3)           "
      ],
      "execution_count": null,
      "outputs": []
    },
    {
      "cell_type": "code",
      "metadata": {
        "id": "f4xF0bglCRKm"
      },
      "source": [
        "# Using the Pandas function.\n",
        "x.corr(y)"
      ],
      "execution_count": null,
      "outputs": []
    },
    {
      "cell_type": "code",
      "metadata": {
        "id": "mOiE5kZTCRKn"
      },
      "source": [
        "# Correlation array.\n",
        "np.round(df.corr(),3)               "
      ],
      "execution_count": null,
      "outputs": []
    },
    {
      "cell_type": "markdown",
      "metadata": {
        "id": "fQOc_ytxCRKo"
      },
      "source": [
        "#### 1.2. Spearman:"
      ]
    },
    {
      "cell_type": "code",
      "metadata": {
        "id": "qjlYhFeuCRKo"
      },
      "source": [
        "# Using the SciPy function.\n",
        "# Correlation and p-value.\n",
        "np.round(st.spearmanr(x,y),3)          "
      ],
      "execution_count": null,
      "outputs": []
    },
    {
      "cell_type": "markdown",
      "metadata": {
        "id": "0jjJLdAgCRKp"
      },
      "source": [
        "#### 1.3. Kendall:"
      ]
    },
    {
      "cell_type": "code",
      "metadata": {
        "id": "yaft1VB-CRKp"
      },
      "source": [
        "# Using the SciPy function.\n",
        "# Correlation and p-value.\n",
        "np.round(st.kendalltau(x,y),3)         # 상관계수와 p-값."
      ],
      "execution_count": null,
      "outputs": []
    },
    {
      "cell_type": "markdown",
      "metadata": {
        "id": "oizwGVjbCRKp"
      },
      "source": [
        "### 2. Interval Estimation of the Correlation:"
      ]
    },
    {
      "cell_type": "code",
      "metadata": {
        "id": "LNoheNB1CRKq"
      },
      "source": [
        "# Read in another data set.\n",
        "df = pd.read_csv('data_studentlist.csv', header='infer')"
      ],
      "execution_count": null,
      "outputs": []
    },
    {
      "cell_type": "code",
      "metadata": {
        "id": "fNLtNxp3CRKq"
      },
      "source": [
        "df.head(3)"
      ],
      "execution_count": null,
      "outputs": []
    },
    {
      "cell_type": "code",
      "metadata": {
        "id": "BxrR9NV0CRKq"
      },
      "source": [
        "# Set aside two variables.\n",
        "x = df.height\n",
        "y = df.weight"
      ],
      "execution_count": null,
      "outputs": []
    },
    {
      "cell_type": "markdown",
      "metadata": {
        "id": "PBlMmrcsCRKr"
      },
      "source": [
        "[link text](https://)#### 2.2. Confidence Interval of the Pearson Correlation: "
      ]
    },
    {
      "cell_type": "code",
      "metadata": {
        "id": "XwEiUH3oCRKr"
      },
      "source": [
        "# Apply the Fisher's z-transformation.\n",
        "# See the lecture.\n",
        "n = len(x)\n",
        "r = x.corr(y)\n",
        "z = np.arctanh(r)\n",
        "std_error_z = 1/np.sqrt(n-3)"
      ],
      "execution_count": null,
      "outputs": []
    },
    {
      "cell_type": "code",
      "metadata": {
        "id": "i1-C2T5jCRKs"
      },
      "source": [
        "# 95% confidence interval. \n",
        "# Expressed as a dictionary object.\n",
        "{'low':np.tanh(z-st.norm.ppf(0.975)*std_error_z), 'high': np.tanh(z+st.norm.ppf(0.975)*std_error_z)}"
      ],
      "execution_count": null,
      "outputs": []
    },
    {
      "cell_type": "code",
      "metadata": {
        "id": "KeZqDs_FCRKt"
      },
      "source": [
        "# 99% confidence interval.\n",
        "# Expressed as a dictionary object.\n",
        "{'low':np.tanh(z-st.norm.ppf(0.995)*std_error_z), 'high': np.tanh(z+st.norm.ppf(0.995)*std_error_z)}"
      ],
      "execution_count": null,
      "outputs": []
    },
    {
      "cell_type": "code",
      "metadata": {
        "id": "TbaP6hjxCRKt"
      },
      "source": [
        ""
      ],
      "execution_count": null,
      "outputs": []
    }
  ]
}