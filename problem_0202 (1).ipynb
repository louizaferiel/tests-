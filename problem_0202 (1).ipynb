{
  "nbformat": 4,
  "nbformat_minor": 0,
  "metadata": {
    "kernelspec": {
      "display_name": "Python 3",
      "language": "python",
      "name": "python3"
    },
    "language_info": {
      "codemirror_mode": {
        "name": "ipython",
        "version": 3
      },
      "file_extension": ".py",
      "mimetype": "text/x-python",
      "name": "python",
      "nbconvert_exporter": "python",
      "pygments_lexer": "ipython3",
      "version": "3.7.3"
    },
    "colab": {
      "name": "problem_0202.ipynb",
      "provenance": [],
      "collapsed_sections": []
    }
  },
  "cells": [
    {
      "cell_type": "markdown",
      "metadata": {
        "id": "6aJUQU9ZKopY"
      },
      "source": [
        "## Quiz #0202"
      ]
    },
    {
      "cell_type": "code",
      "metadata": {
        "id": "YwlRMPQ7Kopd"
      },
      "source": [
        "import pandas as pd\n",
        "import numpy as np\n",
        "import os"
      ],
      "execution_count": null,
      "outputs": []
    },
    {
      "cell_type": "markdown",
      "metadata": {
        "id": "8kUnygJ8Kopf"
      },
      "source": [
        "#### Read in the data."
      ]
    },
    {
      "cell_type": "markdown",
      "metadata": {
        "id": "kGnd4947OLhg"
      },
      "source": [
        ""
      ]
    },
    {
      "cell_type": "code",
      "metadata": {
        "id": "5kg9Z1UpKopf"
      },
      "source": [
        "# Go to the directory where the data file is located. \n",
        "# os.chdir(r'~~')                # Please, replace the path with your own."
      ],
      "execution_count": null,
      "outputs": []
    },
    {
      "cell_type": "code",
      "metadata": {
        "id": "35D1dk4JKopg"
      },
      "source": [
        "df = pd.read_csv('data_census.csv', header='infer')"
      ],
      "execution_count": null,
      "outputs": []
    },
    {
      "cell_type": "code",
      "metadata": {
        "colab": {
          "base_uri": "https://localhost:8080/"
        },
        "id": "U_M0htOwKopg",
        "outputId": "c25caf35-ea08-4da7-f577-1e9887b8b889"
      },
      "source": [
        "df.shape"
      ],
      "execution_count": null,
      "outputs": [
        {
          "output_type": "execute_result",
          "data": {
            "text/plain": [
              "(281, 6)"
            ]
          },
          "metadata": {
            "tags": []
          },
          "execution_count": 4
        }
      ]
    },
    {
      "cell_type": "code",
      "metadata": {
        "colab": {
          "base_uri": "https://localhost:8080/",
          "height": 357
        },
        "id": "mg_eNJqtKopg",
        "outputId": "3ff614a2-b119-4f0f-f795-5e1a74537010"
      },
      "source": [
        "df.head(10)"
      ],
      "execution_count": null,
      "outputs": [
        {
          "output_type": "execute_result",
          "data": {
            "text/html": [
              "<div>\n",
              "<style scoped>\n",
              "    .dataframe tbody tr th:only-of-type {\n",
              "        vertical-align: middle;\n",
              "    }\n",
              "\n",
              "    .dataframe tbody tr th {\n",
              "        vertical-align: top;\n",
              "    }\n",
              "\n",
              "    .dataframe thead th {\n",
              "        text-align: right;\n",
              "    }\n",
              "</style>\n",
              "<table border=\"1\" class=\"dataframe\">\n",
              "  <thead>\n",
              "    <tr style=\"text-align: right;\">\n",
              "      <th></th>\n",
              "      <th>ProvinceCode</th>\n",
              "      <th>CityCode</th>\n",
              "      <th>Population</th>\n",
              "      <th>Households</th>\n",
              "      <th>PersonsHousehold</th>\n",
              "      <th>GenderRatio</th>\n",
              "    </tr>\n",
              "  </thead>\n",
              "  <tbody>\n",
              "    <tr>\n",
              "      <th>0</th>\n",
              "      <td>109</td>\n",
              "      <td>1001</td>\n",
              "      <td>10078850</td>\n",
              "      <td>4197478</td>\n",
              "      <td>2.40</td>\n",
              "      <td>0.97</td>\n",
              "    </tr>\n",
              "    <tr>\n",
              "      <th>1</th>\n",
              "      <td>109</td>\n",
              "      <td>1188</td>\n",
              "      <td>155695</td>\n",
              "      <td>72882</td>\n",
              "      <td>2.14</td>\n",
              "      <td>0.98</td>\n",
              "    </tr>\n",
              "    <tr>\n",
              "      <th>2</th>\n",
              "      <td>109</td>\n",
              "      <td>1189</td>\n",
              "      <td>126817</td>\n",
              "      <td>59614</td>\n",
              "      <td>2.13</td>\n",
              "      <td>1.00</td>\n",
              "    </tr>\n",
              "    <tr>\n",
              "      <th>3</th>\n",
              "      <td>109</td>\n",
              "      <td>1158</td>\n",
              "      <td>235186</td>\n",
              "      <td>108138</td>\n",
              "      <td>2.17</td>\n",
              "      <td>0.94</td>\n",
              "    </tr>\n",
              "    <tr>\n",
              "      <th>4</th>\n",
              "      <td>109</td>\n",
              "      <td>1105</td>\n",
              "      <td>298145</td>\n",
              "      <td>126915</td>\n",
              "      <td>2.35</td>\n",
              "      <td>0.99</td>\n",
              "    </tr>\n",
              "    <tr>\n",
              "      <th>5</th>\n",
              "      <td>109</td>\n",
              "      <td>1032</td>\n",
              "      <td>362197</td>\n",
              "      <td>158769</td>\n",
              "      <td>2.28</td>\n",
              "      <td>0.97</td>\n",
              "    </tr>\n",
              "    <tr>\n",
              "      <th>6</th>\n",
              "      <td>109</td>\n",
              "      <td>1065</td>\n",
              "      <td>362604</td>\n",
              "      <td>160110</td>\n",
              "      <td>2.26</td>\n",
              "      <td>1.01</td>\n",
              "    </tr>\n",
              "    <tr>\n",
              "      <th>7</th>\n",
              "      <td>109</td>\n",
              "      <td>1190</td>\n",
              "      <td>417976</td>\n",
              "      <td>177077</td>\n",
              "      <td>2.36</td>\n",
              "      <td>1.00</td>\n",
              "    </tr>\n",
              "    <tr>\n",
              "      <th>8</th>\n",
              "      <td>109</td>\n",
              "      <td>1106</td>\n",
              "      <td>464176</td>\n",
              "      <td>192670</td>\n",
              "      <td>2.41</td>\n",
              "      <td>0.96</td>\n",
              "    </tr>\n",
              "    <tr>\n",
              "      <th>9</th>\n",
              "      <td>109</td>\n",
              "      <td>1006</td>\n",
              "      <td>333523</td>\n",
              "      <td>141325</td>\n",
              "      <td>2.36</td>\n",
              "      <td>0.97</td>\n",
              "    </tr>\n",
              "  </tbody>\n",
              "</table>\n",
              "</div>"
            ],
            "text/plain": [
              "   ProvinceCode  CityCode  ...  PersonsHousehold  GenderRatio\n",
              "0           109      1001  ...              2.40         0.97\n",
              "1           109      1188  ...              2.14         0.98\n",
              "2           109      1189  ...              2.13         1.00\n",
              "3           109      1158  ...              2.17         0.94\n",
              "4           109      1105  ...              2.35         0.99\n",
              "5           109      1032  ...              2.28         0.97\n",
              "6           109      1065  ...              2.26         1.01\n",
              "7           109      1190  ...              2.36         1.00\n",
              "8           109      1106  ...              2.41         0.96\n",
              "9           109      1006  ...              2.36         0.97\n",
              "\n",
              "[10 rows x 6 columns]"
            ]
          },
          "metadata": {
            "tags": []
          },
          "execution_count": 5
        }
      ]
    },
    {
      "cell_type": "markdown",
      "metadata": {
        "id": "RpbHgnIsKoph"
      },
      "source": [
        "#### Answer the following questions using Pandas library."
      ]
    },
    {
      "cell_type": "markdown",
      "metadata": {
        "id": "JQdwV8h4Kopi"
      },
      "source": [
        "1). Total population of ProvinceCode equal to 115 and 116:"
      ]
    },
    {
      "cell_type": "code",
      "metadata": {
        "colab": {
          "base_uri": "https://localhost:8080/"
        },
        "id": "3NsmJzJ0Kopi",
        "outputId": "65683acd-7c4b-4aa6-9035-5b3a05fe189b"
      },
      "source": [
        "df[(df.ProvinceCode ==115)  & (df.ProvinceCode)==116].Population.sum()"
      ],
      "execution_count": null,
      "outputs": [
        {
          "output_type": "execute_result",
          "data": {
            "text/plain": [
              "0"
            ]
          },
          "metadata": {
            "tags": []
          },
          "execution_count": 8
        }
      ]
    },
    {
      "cell_type": "markdown",
      "metadata": {
        "id": "U6n_Gz-QKopj"
      },
      "source": [
        "2). Average population of the cities where there are more males (GenderRatio >1):"
      ]
    },
    {
      "cell_type": "code",
      "metadata": {
        "colab": {
          "base_uri": "https://localhost:8080/"
        },
        "id": "XTPhdF8TKopj",
        "outputId": "2fe4d326-523c-4817-998e-bd3911f910d1"
      },
      "source": [
        "df[(df.GenderRatio >1) ].Population.mean()"
      ],
      "execution_count": null,
      "outputs": [
        {
          "output_type": "execute_result",
          "data": {
            "text/plain": [
              "419221.2076923077"
            ]
          },
          "metadata": {
            "tags": []
          },
          "execution_count": 9
        }
      ]
    },
    {
      "cell_type": "markdown",
      "metadata": {
        "id": "gQZyobzLKopj"
      },
      "source": [
        "3). Places with more males  (GenderRatio >1) and less than 2 persons per household: "
      ]
    },
    {
      "cell_type": "code",
      "metadata": {
        "colab": {
          "base_uri": "https://localhost:8080/",
          "height": 417
        },
        "id": "jX--QxpNKopk",
        "outputId": "9f733362-2f5f-40d8-850b-748917416ade"
      },
      "source": [
        "df[(df.GenderRatio >1)  & (df.PersonsHousehold)<2]"
      ],
      "execution_count": null,
      "outputs": [
        {
          "output_type": "execute_result",
          "data": {
            "text/html": [
              "<div>\n",
              "<style scoped>\n",
              "    .dataframe tbody tr th:only-of-type {\n",
              "        vertical-align: middle;\n",
              "    }\n",
              "\n",
              "    .dataframe tbody tr th {\n",
              "        vertical-align: top;\n",
              "    }\n",
              "\n",
              "    .dataframe thead th {\n",
              "        text-align: right;\n",
              "    }\n",
              "</style>\n",
              "<table border=\"1\" class=\"dataframe\">\n",
              "  <thead>\n",
              "    <tr style=\"text-align: right;\">\n",
              "      <th></th>\n",
              "      <th>ProvinceCode</th>\n",
              "      <th>CityCode</th>\n",
              "      <th>Population</th>\n",
              "      <th>Households</th>\n",
              "      <th>PersonsHousehold</th>\n",
              "      <th>GenderRatio</th>\n",
              "    </tr>\n",
              "  </thead>\n",
              "  <tbody>\n",
              "    <tr>\n",
              "      <th>0</th>\n",
              "      <td>109</td>\n",
              "      <td>1001</td>\n",
              "      <td>10078850</td>\n",
              "      <td>4197478</td>\n",
              "      <td>2.40</td>\n",
              "      <td>0.97</td>\n",
              "    </tr>\n",
              "    <tr>\n",
              "      <th>1</th>\n",
              "      <td>109</td>\n",
              "      <td>1188</td>\n",
              "      <td>155695</td>\n",
              "      <td>72882</td>\n",
              "      <td>2.14</td>\n",
              "      <td>0.98</td>\n",
              "    </tr>\n",
              "    <tr>\n",
              "      <th>2</th>\n",
              "      <td>109</td>\n",
              "      <td>1189</td>\n",
              "      <td>126817</td>\n",
              "      <td>59614</td>\n",
              "      <td>2.13</td>\n",
              "      <td>1.00</td>\n",
              "    </tr>\n",
              "    <tr>\n",
              "      <th>3</th>\n",
              "      <td>109</td>\n",
              "      <td>1158</td>\n",
              "      <td>235186</td>\n",
              "      <td>108138</td>\n",
              "      <td>2.17</td>\n",
              "      <td>0.94</td>\n",
              "    </tr>\n",
              "    <tr>\n",
              "      <th>4</th>\n",
              "      <td>109</td>\n",
              "      <td>1105</td>\n",
              "      <td>298145</td>\n",
              "      <td>126915</td>\n",
              "      <td>2.35</td>\n",
              "      <td>0.99</td>\n",
              "    </tr>\n",
              "    <tr>\n",
              "      <th>...</th>\n",
              "      <td>...</td>\n",
              "      <td>...</td>\n",
              "      <td>...</td>\n",
              "      <td>...</td>\n",
              "      <td>...</td>\n",
              "      <td>...</td>\n",
              "    </tr>\n",
              "    <tr>\n",
              "      <th>276</th>\n",
              "      <td>103</td>\n",
              "      <td>1011</td>\n",
              "      <td>63069</td>\n",
              "      <td>27724</td>\n",
              "      <td>2.27</td>\n",
              "      <td>0.94</td>\n",
              "    </tr>\n",
              "    <tr>\n",
              "      <th>277</th>\n",
              "      <td>103</td>\n",
              "      <td>1233</td>\n",
              "      <td>48856</td>\n",
              "      <td>24193</td>\n",
              "      <td>2.02</td>\n",
              "      <td>0.91</td>\n",
              "    </tr>\n",
              "    <tr>\n",
              "      <th>278</th>\n",
              "      <td>115</td>\n",
              "      <td>1001</td>\n",
              "      <td>615250</td>\n",
              "      <td>251478</td>\n",
              "      <td>2.45</td>\n",
              "      <td>1.01</td>\n",
              "    </tr>\n",
              "    <tr>\n",
              "      <th>279</th>\n",
              "      <td>115</td>\n",
              "      <td>1186</td>\n",
              "      <td>454673</td>\n",
              "      <td>182709</td>\n",
              "      <td>2.49</td>\n",
              "      <td>1.00</td>\n",
              "    </tr>\n",
              "    <tr>\n",
              "      <th>280</th>\n",
              "      <td>115</td>\n",
              "      <td>1096</td>\n",
              "      <td>160577</td>\n",
              "      <td>68769</td>\n",
              "      <td>2.34</td>\n",
              "      <td>1.02</td>\n",
              "    </tr>\n",
              "  </tbody>\n",
              "</table>\n",
              "<p>281 rows × 6 columns</p>\n",
              "</div>"
            ],
            "text/plain": [
              "     ProvinceCode  CityCode  ...  PersonsHousehold  GenderRatio\n",
              "0             109      1001  ...              2.40         0.97\n",
              "1             109      1188  ...              2.14         0.98\n",
              "2             109      1189  ...              2.13         1.00\n",
              "3             109      1158  ...              2.17         0.94\n",
              "4             109      1105  ...              2.35         0.99\n",
              "..            ...       ...  ...               ...          ...\n",
              "276           103      1011  ...              2.27         0.94\n",
              "277           103      1233  ...              2.02         0.91\n",
              "278           115      1001  ...              2.45         1.01\n",
              "279           115      1186  ...              2.49         1.00\n",
              "280           115      1096  ...              2.34         1.02\n",
              "\n",
              "[281 rows x 6 columns]"
            ]
          },
          "metadata": {
            "tags": []
          },
          "execution_count": 10
        }
      ]
    },
    {
      "cell_type": "markdown",
      "metadata": {
        "id": "jppXMbtkKopk"
      },
      "source": [
        "4). Sort the DataFrame in ascending order of the 'Households'. Show the top 10."
      ]
    },
    {
      "cell_type": "code",
      "metadata": {
        "colab": {
          "base_uri": "https://localhost:8080/",
          "height": 357
        },
        "id": "MUUqA14FKopl",
        "outputId": "606b9966-e3b2-49eb-a7a3-55449d271567"
      },
      "source": [
        "df.sort_values(by='Households',ascending=True)\n",
        "df.head(10)"
      ],
      "execution_count": null,
      "outputs": [
        {
          "output_type": "execute_result",
          "data": {
            "text/html": [
              "<div>\n",
              "<style scoped>\n",
              "    .dataframe tbody tr th:only-of-type {\n",
              "        vertical-align: middle;\n",
              "    }\n",
              "\n",
              "    .dataframe tbody tr th {\n",
              "        vertical-align: top;\n",
              "    }\n",
              "\n",
              "    .dataframe thead th {\n",
              "        text-align: right;\n",
              "    }\n",
              "</style>\n",
              "<table border=\"1\" class=\"dataframe\">\n",
              "  <thead>\n",
              "    <tr style=\"text-align: right;\">\n",
              "      <th></th>\n",
              "      <th>ProvinceCode</th>\n",
              "      <th>CityCode</th>\n",
              "      <th>Population</th>\n",
              "      <th>Households</th>\n",
              "      <th>PersonsHousehold</th>\n",
              "      <th>GenderRatio</th>\n",
              "    </tr>\n",
              "  </thead>\n",
              "  <tbody>\n",
              "    <tr>\n",
              "      <th>0</th>\n",
              "      <td>109</td>\n",
              "      <td>1001</td>\n",
              "      <td>10078850</td>\n",
              "      <td>4197478</td>\n",
              "      <td>2.40</td>\n",
              "      <td>0.97</td>\n",
              "    </tr>\n",
              "    <tr>\n",
              "      <th>1</th>\n",
              "      <td>109</td>\n",
              "      <td>1188</td>\n",
              "      <td>155695</td>\n",
              "      <td>72882</td>\n",
              "      <td>2.14</td>\n",
              "      <td>0.98</td>\n",
              "    </tr>\n",
              "    <tr>\n",
              "      <th>2</th>\n",
              "      <td>109</td>\n",
              "      <td>1189</td>\n",
              "      <td>126817</td>\n",
              "      <td>59614</td>\n",
              "      <td>2.13</td>\n",
              "      <td>1.00</td>\n",
              "    </tr>\n",
              "    <tr>\n",
              "      <th>3</th>\n",
              "      <td>109</td>\n",
              "      <td>1158</td>\n",
              "      <td>235186</td>\n",
              "      <td>108138</td>\n",
              "      <td>2.17</td>\n",
              "      <td>0.94</td>\n",
              "    </tr>\n",
              "    <tr>\n",
              "      <th>4</th>\n",
              "      <td>109</td>\n",
              "      <td>1105</td>\n",
              "      <td>298145</td>\n",
              "      <td>126915</td>\n",
              "      <td>2.35</td>\n",
              "      <td>0.99</td>\n",
              "    </tr>\n",
              "    <tr>\n",
              "      <th>5</th>\n",
              "      <td>109</td>\n",
              "      <td>1032</td>\n",
              "      <td>362197</td>\n",
              "      <td>158769</td>\n",
              "      <td>2.28</td>\n",
              "      <td>0.97</td>\n",
              "    </tr>\n",
              "    <tr>\n",
              "      <th>6</th>\n",
              "      <td>109</td>\n",
              "      <td>1065</td>\n",
              "      <td>362604</td>\n",
              "      <td>160110</td>\n",
              "      <td>2.26</td>\n",
              "      <td>1.01</td>\n",
              "    </tr>\n",
              "    <tr>\n",
              "      <th>7</th>\n",
              "      <td>109</td>\n",
              "      <td>1190</td>\n",
              "      <td>417976</td>\n",
              "      <td>177077</td>\n",
              "      <td>2.36</td>\n",
              "      <td>1.00</td>\n",
              "    </tr>\n",
              "    <tr>\n",
              "      <th>8</th>\n",
              "      <td>109</td>\n",
              "      <td>1106</td>\n",
              "      <td>464176</td>\n",
              "      <td>192670</td>\n",
              "      <td>2.41</td>\n",
              "      <td>0.96</td>\n",
              "    </tr>\n",
              "    <tr>\n",
              "      <th>9</th>\n",
              "      <td>109</td>\n",
              "      <td>1006</td>\n",
              "      <td>333523</td>\n",
              "      <td>141325</td>\n",
              "      <td>2.36</td>\n",
              "      <td>0.97</td>\n",
              "    </tr>\n",
              "  </tbody>\n",
              "</table>\n",
              "</div>"
            ],
            "text/plain": [
              "   ProvinceCode  CityCode  ...  PersonsHousehold  GenderRatio\n",
              "0           109      1001  ...              2.40         0.97\n",
              "1           109      1188  ...              2.14         0.98\n",
              "2           109      1189  ...              2.13         1.00\n",
              "3           109      1158  ...              2.17         0.94\n",
              "4           109      1105  ...              2.35         0.99\n",
              "5           109      1032  ...              2.28         0.97\n",
              "6           109      1065  ...              2.26         1.01\n",
              "7           109      1190  ...              2.36         1.00\n",
              "8           109      1106  ...              2.41         0.96\n",
              "9           109      1006  ...              2.36         0.97\n",
              "\n",
              "[10 rows x 6 columns]"
            ]
          },
          "metadata": {
            "tags": []
          },
          "execution_count": 12
        }
      ]
    },
    {
      "cell_type": "code",
      "metadata": {
        "id": "29zVDsPdNl11"
      },
      "source": [
        ""
      ],
      "execution_count": null,
      "outputs": []
    }
  ]
}